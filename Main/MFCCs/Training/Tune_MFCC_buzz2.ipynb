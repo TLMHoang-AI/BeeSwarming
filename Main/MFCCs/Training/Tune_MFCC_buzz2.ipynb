{
 "cells": [
  {
   "cell_type": "markdown",
   "metadata": {},
   "source": [
    "## Prep"
   ]
  },
  {
   "cell_type": "code",
   "execution_count": 10,
   "metadata": {},
   "outputs": [],
   "source": [
    "# import os\n",
    "# import numpy as np\n",
    "# import librosa\n",
    "# import librosa.display\n",
    "# import matplotlib.pyplot as plt\n",
    "\n",
    "# # Định nghĩa hai file để so sánh\n",
    "# file_path_1 = r\"D:\\Workplace\\.SPRING2025\\AIL303m\\Bee_Swarming\\buzz 1\\Train\\None_swarming\\1624315499698_tha chua dang nhot_210621\\1624315499698_tha chua dang nhot_210621_30.wav\"\n",
    "# file_path_2 = r\"D:\\Workplace\\.SPRING2025\\AIL303m\\Bee_Swarming\\buzz 1\\Train\\Swarming\\Chiadan_6cau_12_04_2022_12h_14h_1h30chiadan\\Chiadan_6cau_12_04_2022_12h_14h_1h30chiadan_28.wav\"\n",
    "\n",
    "# # Kiểm tra xem file có tồn tại không\n",
    "# if not os.path.exists(file_path_1) or not os.path.exists(file_path_2):\n",
    "#     raise FileNotFoundError(\"Một trong hai file không tồn tại!\")\n",
    "\n",
    "# # Hàm tiền xử lý và trích xuất MFCC, Delta, Delta-Delta\n",
    "# def process_audio(file_path):\n",
    "#     y, sr = librosa.load(file_path, sr=None)\n",
    "\n",
    "#     # Áp dụng bộ lọc nhấn mạnh\n",
    "#     pre_emphasis = 0.98\n",
    "#     emphasized_signal = np.append(y[0], y[1:] - pre_emphasis * y[:-1])\n",
    "\n",
    "#     # Tính MFCC\n",
    "#     n_mfcc = 40\n",
    "#     mfccs = librosa.feature.mfcc(y=emphasized_signal, sr=sr, n_mfcc=n_mfcc)\n",
    "\n",
    "#     # Tính Delta (đạo hàm bậc 1) và Delta-Delta\n",
    "#     delta_mfcc = librosa.feature.delta(mfccs)\n",
    "#     delta2_mfcc = librosa.feature.delta(mfccs, order=2)\n",
    "\n",
    "#     return y, emphasized_signal, mfccs, delta_mfcc, delta2_mfcc, sr\n",
    "\n",
    "# # Xử lý hai tệp âm thanh\n",
    "# y1, emphasized_signal1, mfccs1, delta_mfcc1, delta2_mfcc1, sr1 = process_audio(file_path_1)\n",
    "# y2, emphasized_signal2, mfccs2, delta_mfcc2, delta2_mfcc2, sr2 = process_audio(file_path_2)\n",
    "\n",
    "# # Vẽ đồ thị so sánh\n",
    "# plt.figure(figsize=(15, 12))\n",
    "\n",
    "# plt.subplot(3, 2, 1)\n",
    "# librosa.display.specshow(mfccs1, x_axis=\"time\")\n",
    "# plt.colorbar()\n",
    "# plt.title(\"MFCCs - Swarming\")\n",
    "\n",
    "# plt.subplot(3, 2, 2)\n",
    "# librosa.display.specshow(mfccs2, x_axis=\"time\")\n",
    "# plt.colorbar()\n",
    "# plt.title(\"MFCCs - Non-Swarming\")\n",
    "\n",
    "# plt.subplot(3, 2, 3)\n",
    "# librosa.display.specshow(delta_mfcc1, x_axis=\"time\")\n",
    "# plt.colorbar()\n",
    "# plt.title(\"Delta MFCCs - Swarming\")\n",
    "\n",
    "# plt.subplot(3, 2, 4)\n",
    "# librosa.display.specshow(delta_mfcc2, x_axis=\"time\")\n",
    "# plt.colorbar()\n",
    "# plt.title(\"Delta MFCCs - Non-Swarming\")\n",
    "\n",
    "# plt.subplot(3, 2, 5)\n",
    "# librosa.display.specshow(delta2_mfcc1, x_axis=\"time\")\n",
    "# plt.colorbar()\n",
    "# plt.title(\"Delta-Delta MFCCs - Swarming\")\n",
    "\n",
    "# plt.subplot(3, 2, 6)\n",
    "# librosa.display.specshow(delta2_mfcc2, x_axis=\"time\")\n",
    "# plt.colorbar()\n",
    "# plt.title(\"Delta-Delta MFCCs - Non-Swarming\")\n",
    "\n",
    "# plt.tight_layout()\n",
    "# plt.show()\n"
   ]
  },
  {
   "cell_type": "markdown",
   "metadata": {},
   "source": [
    "### trich xuat feature"
   ]
  },
  {
   "cell_type": "code",
   "execution_count": 11,
   "metadata": {},
   "outputs": [],
   "source": [
    "# import os\n",
    "# import librosa\n",
    "# import numpy as np\n",
    "# import pandas as pd\n",
    "# from tqdm import tqdm\n",
    "\n",
    "# def extract_mfcc(file_path, n_mfcc=60, hop_length=512):\n",
    "#     try:\n",
    "#         y, sr = librosa.load(file_path, sr=16000)\n",
    "\n",
    "#         # Apply pre-emphasis\n",
    "#         pre_emphasis = 0.98\n",
    "#         emphasized_signal = np.append(y[0], y[1:] - pre_emphasis * y[:-1])\n",
    "\n",
    "#         # Compute MFCCs\n",
    "#         mfccs = librosa.feature.mfcc(y=emphasized_signal, sr=sr, n_mfcc=n_mfcc, hop_length=hop_length)\n",
    "\n",
    "#         # Compute delta-delta (second derivative) only\n",
    "#         delta2_mfccs = librosa.feature.delta(mfccs, order=2)\n",
    "\n",
    "#         # Lấy giá trị trung bình của từng hệ số\n",
    "#         mfcc_mean = mfccs.mean(axis=1)\n",
    "#         delta2_mean = delta2_mfccs.mean(axis=1)\n",
    "\n",
    "#         return mfcc_mean, delta2_mean, None\n",
    "\n",
    "#     except Exception as e:\n",
    "#         return None, None, str(e)\n",
    "\n",
    "\n",
    "# def extract_features_from_folder(root_folder, output_folder, dataset_type, n_mfcc=60):\n",
    "#     all_data = []\n",
    "#     errors = []\n",
    "\n",
    "#     for dirpath, _, filenames in os.walk(root_folder):\n",
    "#         for file in tqdm(filenames, desc=f\"Processing {dirpath}\", leave=False):\n",
    "#             if file.endswith(('.wav', '.mp3')):\n",
    "#                 file_path = os.path.join(dirpath, file)\n",
    "#                 relative_path = os.path.relpath(file_path, root_folder)\n",
    "#                 parts = relative_path.split(os.sep)\n",
    "\n",
    "#                 # Xác định category (Swarming hoặc Non-swarming)\n",
    "#                 category = parts[0] if len(parts) > 0 else \"Unknown\"\n",
    "\n",
    "#                 # Ánh xạ category thành label (1: Swarming, 0: Non-swarming)\n",
    "#                 label = 1 if category.lower() == \"swarming\" else 0\n",
    "\n",
    "#                 mfcc, delta2, error = extract_mfcc(file_path, n_mfcc=n_mfcc)\n",
    "#                 if mfcc is not None:\n",
    "#                     feature_row = {\n",
    "#                         'file_name': file,\n",
    "#                         'label': label,\n",
    "#                         **{f'mfcc_{i}': mfcc[i] for i in range(n_mfcc)},\n",
    "#                         **{f'delta2_{i}': delta2[i] for i in range(n_mfcc)}\n",
    "#                     }\n",
    "\n",
    "#                     all_data.append(feature_row)\n",
    "#                 else:\n",
    "#                     errors.append((file_path, error))\n",
    "\n",
    "#     # Chuyển danh sách thành DataFrame và lưu thành CSV\n",
    "#     df = pd.DataFrame(all_data)\n",
    "#     save_path = os.path.join(output_folder, f\"{dataset_type}_mfcc_features.csv\")\n",
    "#     df.to_csv(save_path, index=False)\n",
    "#     print(f\"Saved extracted features to {save_path}\")\n",
    "\n",
    "#     return errors\n",
    "\n",
    "\n",
    "# if __name__ == \"__main__\":\n",
    "#     # Define input and output paths\n",
    "#     root_folder = r\"D:\\Workplace\\.SPRING2025\\AIL303m\\Bee_Swarming\\buzz 2\"\n",
    "#     output_folder = r\"D:\\Workplace\\.SPRING2025\\AIL303m\\Bee_Swarming\\MFCC\\mfcc_features_example_buzz2\"\n",
    "\n",
    "#     os.makedirs(output_folder, exist_ok=True)\n",
    "\n",
    "#     # Process Train, Val, and Test folders separately\n",
    "#     errors = []\n",
    "#     for dataset in [\"Train\", \"Val\", \"Test\"]:\n",
    "#         dataset_path = os.path.join(root_folder, dataset)\n",
    "#         if os.path.exists(dataset_path):\n",
    "#             print(f\"\\nExtracting features for {dataset}...\")\n",
    "#             dataset_errors = extract_features_from_folder(dataset_path, output_folder, dataset)\n",
    "#             errors.extend(dataset_errors)\n",
    "#         else:\n",
    "#             print(f\"{dataset} folder not found!\")\n",
    "\n",
    "#     # Log errors if any\n",
    "#     if errors:\n",
    "#         error_log_file = os.path.join(output_folder, \"errors.log\")\n",
    "#         with open(error_log_file, \"w\", encoding=\"utf-8\") as f:\n",
    "#             for file_path, error in errors:\n",
    "#                 f.write(f\"{file_path}: {error}\\n\")\n",
    "#         print(f\"Errors logged in {error_log_file}\")\n",
    "\n",
    "#     print(\"\\nFeature extraction completed!\")\n"
   ]
  },
  {
   "cell_type": "markdown",
   "metadata": {},
   "source": [
    "### tinh toan trong so"
   ]
  },
  {
   "cell_type": "code",
   "execution_count": 12,
   "metadata": {},
   "outputs": [
    {
     "data": {
      "text/plain": [
       "<Figure size 1200x600 with 0 Axes>"
      ]
     },
     "metadata": {},
     "output_type": "display_data"
    },
    {
     "data": {
      "image/png": "[encoded data removed]",
      "text/plain": [
       "<Figure size 1500x500 with 1 Axes>"
      ]
     },
     "metadata": {},
     "output_type": "display_data"
    },
    {
     "name": "stdout",
     "output_type": "stream",
     "text": [
      "         Train_MI    Val_MI   Test_MI\n",
      "mfcc_1   0.658990  0.669677  0.693073\n",
      "mfcc_20  0.602057  0.326855  0.088412\n",
      "mfcc_22  0.580638  0.257021  0.378165\n",
      "mfcc_8   0.576918  0.580488  0.439587\n",
      "mfcc_10  0.531026  0.318920  0.165174\n",
      "mfcc_2   0.438866  0.681970  0.690060\n",
      "mfcc_0   0.394393  0.430603  0.583870\n",
      "mfcc_12  0.382771  0.267820  0.384423\n",
      "mfcc_24  0.359483  0.210830  0.327620\n",
      "mfcc_18  0.358518  0.289683  0.509046\n"
     ]
    }
   ],
   "source": [
    "import pandas as pd\n",
    "from sklearn.feature_selection import mutual_info_classif\n",
    "import matplotlib.pyplot as plt\n",
    "\n",
    "# Định nghĩa hàm tính Mutual Information\n",
    "def compute_mi(df, feature_cols, label_col):\n",
    "    X = df[feature_cols].values\n",
    "    y = df[label_col].values\n",
    "    mi_scores = mutual_info_classif(X, y, discrete_features=False)\n",
    "    return pd.Series(mi_scores, index=feature_cols)\n",
    "\n",
    "# Load dữ liệu từ các file\n",
    "train_df = pd.read_csv(r\"D:\\Workplace\\.SPRING2025\\AIL303m\\Bee_Swarming\\mfcc_features_buzz2\\Train_mfcc_features.csv\")\n",
    "test_df = pd.read_csv(r\"D:\\Workplace\\.SPRING2025\\AIL303m\\Bee_Swarming\\mfcc_features_buzz2\\Test_mfcc_features.csv\")\n",
    "val_df = pd.read_csv(r\"D:\\Workplace\\.SPRING2025\\AIL303m\\Bee_Swarming\\mfcc_features_buzz2\\Val_mfcc_features.csv\")\n",
    "\n",
    "# Xác định danh sách feature columns\n",
    "feature_cols = [col for col in train_df.columns if col.startswith(\"mfcc_\")]\n",
    "label_col = \"label\"\n",
    "\n",
    "# Tính MI cho từng tập dữ liệu\n",
    "mi_train = compute_mi(train_df, feature_cols, label_col)\n",
    "mi_val = compute_mi(val_df, feature_cols, label_col)\n",
    "mi_test = compute_mi(test_df, feature_cols, label_col)\n",
    "\n",
    "# Tạo DataFrame để so sánh\n",
    "mi_comparison = pd.DataFrame({\n",
    "    \"Train_MI\": mi_train,\n",
    "    \"Val_MI\": mi_val,\n",
    "    \"Test_MI\": mi_test\n",
    "}).sort_values(by=\"Train_MI\", ascending=False)\n",
    "\n",
    "# Vẽ biểu đồ so sánh Mutual Information giữa các tập\n",
    "plt.figure(figsize=(12, 6))\n",
    "mi_comparison.plot(kind=\"bar\", figsize=(15,5))\n",
    "plt.title(\"Mutual Information của từng feature trên Train, Validation, Test\")\n",
    "plt.xlabel(\"MFCC Features\")\n",
    "plt.ylabel(\"Mutual Information\")\n",
    "plt.show()\n",
    "\n",
    "# Hiển thị 10 feature quan trọng nhất theo MI của Train\n",
    "print(mi_comparison.head(10))\n"
   ]
  },
  {
   "cell_type": "markdown",
   "metadata": {},
   "source": [
    "## Train"
   ]
  },
  {
   "cell_type": "code",
   "execution_count": 13,
   "metadata": {},
   "outputs": [],
   "source": [
    "import pandas as pd\n",
    "import numpy as np\n",
    "from sklearn.preprocessing import StandardScaler\n",
    "from sklearn.neighbors import KNeighborsClassifier\n",
    "from sklearn.metrics import accuracy_score, f1_score, classification_report\n",
    "from sklearn.preprocessing import StandardScaler\n",
    "import os\n",
    "from sklearn.decomposition import PCA\n",
    "from sklearn.model_selection import GridSearchCV"
   ]
  },
  {
   "cell_type": "code",
   "execution_count": 14,
   "metadata": {},
   "outputs": [],
   "source": [
    "train_df = pd.read_csv(r\"D:\\Workplace\\.SPRING2025\\AIL303m\\Bee_Swarming\\mfcc_features_buzz2\\Train_mfcc_features.csv\")\n",
    "test_df = pd.read_csv(r\"D:\\Workplace\\.SPRING2025\\AIL303m\\Bee_Swarming\\mfcc_features_buzz2\\Test_mfcc_features.csv\")\n",
    "val_df = pd.read_csv(r\"D:\\Workplace\\.SPRING2025\\AIL303m\\Bee_Swarming\\mfcc_features_buzz2\\Val_mfcc_features.csv\")"
   ]
  },
  {
   "cell_type": "code",
   "execution_count": 15,
   "metadata": {},
   "outputs": [],
   "source": [
    "train_df = train_df.drop(columns=['file_name'])\n",
    "test_df = test_df.drop(columns=['file_name'])\n",
    "val_df = val_df.drop(columns=['file_name'])"
   ]
  },
  {
   "cell_type": "code",
   "execution_count": 16,
   "metadata": {},
   "outputs": [],
   "source": [
    "X_train, y_train = train_df.drop(columns=['label']), train_df['label']\n",
    "X_test, y_test = test_df.drop(columns=['label']), test_df['label']\n",
    "X_val, y_val = val_df.drop(columns=['label']), val_df['label']"
   ]
  },
  {
   "cell_type": "code",
   "execution_count": 17,
   "metadata": {},
   "outputs": [
    {
     "name": "stdout",
     "output_type": "stream",
     "text": [
      "Train shape: (19002, 180), Test shape: (11200, 180), Val shape: (4449, 180)\n"
     ]
    }
   ],
   "source": [
    "print(f\"Train shape: {X_train.shape}, Test shape: {X_test.shape}, Val shape: {X_val.shape}\")"
   ]
  },
  {
   "cell_type": "code",
   "execution_count": 18,
   "metadata": {},
   "outputs": [
    {
     "data": {
      "image/png": "[encoded data removed]",
      "text/plain": [
       "<Figure size 640x480 with 2 Axes>"
      ]
     },
     "metadata": {},
     "output_type": "display_data"
    }
   ],
   "source": [
    "from sklearn.manifold import TSNE\n",
    "import matplotlib.pyplot as plt\n",
    "\n",
    "# Giảm chiều dữ liệu xuống 2D bằng t-SNE\n",
    "tsne = TSNE(n_components=2, random_state=42)\n",
    "X_train_tsne = tsne.fit_transform(X_train)\n",
    "\n",
    "plt.scatter(X_train_tsne[:, 0], X_train_tsne[:, 1], c=y_train, cmap='viridis', alpha=0.7)\n",
    "plt.colorbar()\n",
    "plt.title(\"Visualization using t-SNE\")\n",
    "plt.show()\n"
   ]
  },
  {
   "cell_type": "code",
   "execution_count": 19,
   "metadata": {},
   "outputs": [
    {
     "name": "stdout",
     "output_type": "stream",
     "text": [
      "Imbalance Ratio in Train Set: 1.0368742630507022\n",
      "Imbalance Ratio in Test Set: 1.0\n",
      "Imbalance Ratio in Validation Set: 1.0222727272727272\n"
     ]
    }
   ],
   "source": [
    "def imbalance_ratio(y):\n",
    "    counts = pd.Series(y).value_counts()\n",
    "    return counts.max() / counts.min()\n",
    "\n",
    "print(\"Imbalance Ratio in Train Set:\", imbalance_ratio(y_train))\n",
    "print(\"Imbalance Ratio in Test Set:\", imbalance_ratio(y_test))\n",
    "print(\"Imbalance Ratio in Validation Set:\", imbalance_ratio(y_val))"
   ]
  },
  {
   "cell_type": "markdown",
   "metadata": {},
   "source": [
    "### KNN"
   ]
  },
  {
   "cell_type": "code",
   "execution_count": 20,
   "metadata": {},
   "outputs": [],
   "source": [
    "scaler = StandardScaler()\n",
    "X_train_Scaled = scaler.fit_transform(X_train)\n",
    "X_test_Scaled = scaler.transform(X_test)\n",
    "X_val_Scaled = scaler.transform(X_val)"
   ]
  },
  {
   "cell_type": "code",
   "execution_count": 21,
   "metadata": {},
   "outputs": [
    {
     "name": "stdout",
     "output_type": "stream",
     "text": [
      "Fitting 5 folds for each of 392 candidates, totalling 1960 fits\n",
      "Best Parameters: {'algorithm': 'auto', 'n_neighbors': 9, 'weights': 'uniform'}\n",
      "Best Cross-Validation Accuracy: 1.0000\n"
     ]
    },
    {
     "name": "stderr",
     "output_type": "stream",
     "text": [
      "C:\\Users\\ADMIN\\AppData\\Local\\Packages\\PythonSoftwareFoundation.Python.3.10_qbz5n2kfra8p0\\LocalCache\\local-packages\\Python310\\site-packages\\numpy\\ma\\core.py:2820: RuntimeWarning: invalid value encountered in cast\n",
      "  _data = np.array(data, dtype=dtype, copy=copy,\n"
     ]
    }
   ],
   "source": [
    "param_grid = {\n",
    "    'n_neighbors': list(range(3, 100, 2)),\n",
    "    'weights': ['uniform', 'distance'],\n",
    "    'algorithm': ['auto', 'ball_tree', 'kd_tree', 'brute']\n",
    "}\n",
    "\n",
    "knn = KNeighborsClassifier()\n",
    "\n",
    "grid_search = GridSearchCV(\n",
    "    estimator=knn, param_grid=param_grid, \n",
    "    cv=5, scoring='accuracy', n_jobs=-1, verbose=1\n",
    ")\n",
    "\n",
    "grid_search.fit(X_val_Scaled, y_val)\n",
    "\n",
    "best_params = grid_search.best_params_\n",
    "best_score = grid_search.best_score_\n",
    "\n",
    "print(f\"Best Parameters: {best_params}\")\n",
    "print(f\"Best Cross-Validation Accuracy: {best_score:.4f}\")"
   ]
  },
  {
   "cell_type": "code",
   "execution_count": 22,
   "metadata": {},
   "outputs": [
    {
     "name": "stdout",
     "output_type": "stream",
     "text": [
      "\n",
      "Test Set Results:\n",
      "Accuracy: 0.9429\n",
      "F1 Score: 0.9459\n",
      "Classification Report: {'0': {'precision': 1.0, 'recall': 0.8857142857142857, 'f1-score': 0.9393939393939394, 'support': 5600.0}, '1': {'precision': 0.8974358974358975, 'recall': 1.0, 'f1-score': 0.9459459459459459, 'support': 5600.0}, 'accuracy': 0.9428571428571428, 'macro avg': {'precision': 0.9487179487179487, 'recall': 0.9428571428571428, 'f1-score': 0.9426699426699428, 'support': 11200.0}, 'weighted avg': {'precision': 0.9487179487179487, 'recall': 0.9428571428571428, 'f1-score': 0.9426699426699428, 'support': 11200.0}}\n",
      "\n",
      "Validation Set Results:\n",
      "Accuracy: 0.9755\n",
      "F1 Score: 0.9763\n",
      "Classification Report: {'0': {'precision': 0.9985693848354793, 'recall': 0.9518181818181818, 'f1-score': 0.9746334652082849, 'support': 2200.0}, '1': {'precision': 0.9549319727891157, 'recall': 0.9986660738105825, 'f1-score': 0.9763094979352315, 'support': 2249.0}, 'accuracy': 0.9755001123848056, 'macro avg': {'precision': 0.9767506788122975, 'recall': 0.9752421278143821, 'f1-score': 0.9754714815717582, 'support': 4449.0}, 'weighted avg': {'precision': 0.9765103738909363, 'recall': 0.9755001123848056, 'f1-score': 0.9754807112417537, 'support': 4449.0}}\n"
     ]
    }
   ],
   "source": [
    "best_knn = KNeighborsClassifier(\n",
    "    n_neighbors=best_params['n_neighbors'], \n",
    "    weights=best_params['weights'], \n",
    "    algorithm=best_params['algorithm']\n",
    ")\n",
    "\n",
    "best_knn.fit(X_train_Scaled, y_train)\n",
    "\n",
    "y_pred_test = best_knn.predict(X_test_Scaled)\n",
    "y_pred_val = best_knn.predict(X_val_Scaled)\n",
    "\n",
    "def evaluate_model(y_true, y_pred):\n",
    "    return {\n",
    "        \"accuracy\": accuracy_score(y_true, y_pred),\n",
    "        \"f1_score\": f1_score(y_true, y_pred),\n",
    "        \"classification_report\": classification_report(y_true, y_pred, output_dict=True)\n",
    "    }\n",
    "\n",
    "test_results = evaluate_model(y_test, y_pred_test)\n",
    "val_results = evaluate_model(y_val, y_pred_val)\n",
    "\n",
    "print(\"\\nTest Set Results:\")\n",
    "print(f\"Accuracy: {test_results['accuracy']:.4f}\")\n",
    "print(f\"F1 Score: {test_results['f1_score']:.4f}\")\n",
    "print(\"Classification Report:\", test_results[\"classification_report\"])\n",
    "\n",
    "print(\"\\nValidation Set Results:\")\n",
    "print(f\"Accuracy: {val_results['accuracy']:.4f}\")\n",
    "print(f\"F1 Score: {val_results['f1_score']:.4f}\")\n",
    "print(\"Classification Report:\", val_results[\"classification_report\"])"
   ]
  },
  {
   "cell_type": "markdown",
   "metadata": {},
   "source": [
    "### SVM"
   ]
  },
  {
   "cell_type": "code",
   "execution_count": 23,
   "metadata": {},
   "outputs": [],
   "source": [
    "from sklearn.svm import SVC\n",
    "from sklearn.metrics import accuracy_score, f1_score\n",
    "from sklearn.preprocessing import StandardScaler\n",
    "from sklearn.preprocessing import LabelEncoder\n",
    "from sklearn.model_selection import GridSearchCV"
   ]
  },
  {
   "cell_type": "code",
   "execution_count": 24,
   "metadata": {},
   "outputs": [
    {
     "name": "stdout",
     "output_type": "stream",
     "text": [
      "Best C found: 1\n"
     ]
    }
   ],
   "source": [
    "param_grid = {'C': [0.001, 0.01, 0.1, 1, 10, 100]}\n",
    "\n",
    "scaler = StandardScaler()\n",
    "X_Val_Scaled = scaler.fit_transform(X_val)\n",
    "\n",
    "svm = SVC(kernel='rbf')\n",
    "grid_search = GridSearchCV(svm, param_grid, cv=5, scoring='accuracy', n_jobs=-1)\n",
    "grid_search.fit(X_Val_Scaled, y_val)\n",
    "\n",
    "best_C = grid_search.best_params_['C']\n",
    "print(f\"Best C found: {best_C}\")"
   ]
  },
  {
   "cell_type": "code",
   "execution_count": 25,
   "metadata": {},
   "outputs": [
    {
     "name": "stdout",
     "output_type": "stream",
     "text": [
      "Test Set (Scaled MFCC) Performance:\n",
      "   Accuracy: 0.8076\n",
      "   F1 Score: 0.8386\n",
      "\n",
      "Classification Report:\n",
      "               precision    recall  f1-score   support\n",
      "\n",
      "           0       1.00      0.62      0.76      5600\n",
      "           1       0.72      1.00      0.84      5600\n",
      "\n",
      "    accuracy                           0.81     11200\n",
      "   macro avg       0.86      0.81      0.80     11200\n",
      "weighted avg       0.86      0.81      0.80     11200\n",
      "\n",
      "Validation Set (Scaled MFCC) Performance:\n",
      "   Accuracy: 0.9737\n",
      "   F1 Score: 0.9746\n",
      "\n",
      "Classification Report:\n",
      "               precision    recall  f1-score   support\n",
      "\n",
      "           0       1.00      0.95      0.97      2200\n",
      "           1       0.95      1.00      0.97      2249\n",
      "\n",
      "    accuracy                           0.97      4449\n",
      "   macro avg       0.98      0.97      0.97      4449\n",
      "weighted avg       0.98      0.97      0.97      4449\n",
      "\n"
     ]
    }
   ],
   "source": [
    "svm = SVC(kernel='rbf', C=1, shrinking=False)\n",
    "svm.fit(X_train_Scaled, y_train)\n",
    "\n",
    "y_pred_test = svm.predict(X_test_Scaled)\n",
    "y_pred_val = svm.predict(X_val_Scaled)\n",
    "\n",
    "def evaluate_model(y_true, y_pred, dataset_name):\n",
    "    accuracy = accuracy_score(y_true, y_pred)\n",
    "    f1 = f1_score(y_true, y_pred)\n",
    "    report = classification_report(y_true, y_pred)\n",
    "\n",
    "    print(f\"{dataset_name} Performance:\")\n",
    "    print(f\"   Accuracy: {accuracy:.4f}\")\n",
    "    print(f\"   F1 Score: {f1:.4f}\\n\")\n",
    "    print(\"Classification Report:\\n\", report)\n",
    "\n",
    "    return {\"accuracy\": accuracy, \"f1_score\": f1, \"report\": report}\n",
    "\n",
    "test_results = evaluate_model(y_test, y_pred_test, \"Test Set (Scaled MFCC)\")\n",
    "val_results = evaluate_model(y_val, y_pred_val, \"Validation Set (Scaled MFCC)\")"
   ]
  },
  {
   "cell_type": "markdown",
   "metadata": {},
   "source": [
    "### NB"
   ]
  },
  {
   "cell_type": "code",
   "execution_count": 26,
   "metadata": {},
   "outputs": [
    {
     "name": "stdout",
     "output_type": "stream",
     "text": [
      "\n",
      "Evaluating Naïve Bayes on Raw MFCC Features:\n",
      "\n",
      "NB Raw (Test) Model Performance:\n",
      "   Accuracy: 0.9724\n",
      "   F1 Score: 0.9732\n",
      "\n",
      "NB Raw (Validation) Model Performance:\n",
      "   Accuracy: 0.9863\n",
      "   F1 Score: 0.9866\n"
     ]
    }
   ],
   "source": [
    "from sklearn.naive_bayes import GaussianNB\n",
    "from sklearn.metrics import accuracy_score, f1_score\n",
    "\n",
    "nb_raw = GaussianNB()\n",
    "\n",
    "nb_raw.fit(X_train, y_train)\n",
    "\n",
    "y_test_pred_raw = nb_raw.predict(X_test)\n",
    "y_val_pred_raw = nb_raw.predict(X_val)\n",
    "\n",
    "def evaluate_model(y_true, y_pred, model_type):\n",
    "    accuracy = accuracy_score(y_true, y_pred)\n",
    "    f1 = f1_score(y_true, y_pred)\n",
    "    print(f\"\\n{model_type} Model Performance:\")\n",
    "    print(f\"   Accuracy: {accuracy:.4f}\")\n",
    "    print(f\"   F1 Score: {f1:.4f}\")\n",
    "    return accuracy, f1\n",
    "\n",
    "print(\"\\nEvaluating Naïve Bayes on Raw MFCC Features:\")\n",
    "test_results_raw = evaluate_model(y_test, y_test_pred_raw, \"NB Raw (Test)\")\n",
    "val_results_raw = evaluate_model(y_val, y_val_pred_raw, \"NB Raw (Validation)\")\n"
   ]
  },
  {
   "cell_type": "markdown",
   "metadata": {},
   "source": [
    "### RF"
   ]
  },
  {
   "cell_type": "code",
   "execution_count": 27,
   "metadata": {},
   "outputs": [],
   "source": [
    "from sklearn.ensemble import RandomForestClassifier\n",
    "from sklearn.metrics import accuracy_score, precision_score, f1_score, classification_report\n",
    "from sklearn.model_selection import GridSearchCV\n",
    "import numpy as np\n",
    "import pandas as pd"
   ]
  },
  {
   "cell_type": "markdown",
   "metadata": {},
   "source": [
    "feature selection"
   ]
  },
  {
   "cell_type": "code",
   "execution_count": 28,
   "metadata": {},
   "outputs": [],
   "source": [
    "rf_initial = RandomForestClassifier(n_estimators=100, random_state=42)\n",
    "rf_initial.fit(X_train, y_train)\n",
    "\n",
    "# Lấy độ quan trọng của từng feature\n",
    "feature_importances = rf_initial.feature_importances_\n",
    "\n",
    "# Chọn các feature có importance\n",
    "threshold = np.mean(feature_importances)\n",
    "important_features = np.where(feature_importances > threshold)[0]\n",
    "\n",
    "# Lọc tập dữ liệu theo các feature quan trọng\n",
    "X_train_selected = X_train.iloc[:, important_features]\n",
    "X_test_selected = X_test.iloc[:, important_features]\n",
    "X_val_selected = X_val.iloc[:, important_features]"
   ]
  },
  {
   "cell_type": "code",
   "execution_count": 29,
   "metadata": {},
   "outputs": [
    {
     "name": "stdout",
     "output_type": "stream",
     "text": [
      "Best n_estimators: 30\n"
     ]
    }
   ],
   "source": [
    "param_grid = {'n_estimators': list(range(25, 201, 5))}\n",
    "rf = RandomForestClassifier()\n",
    "grid_search = GridSearchCV(rf, param_grid, cv=5, scoring='accuracy', n_jobs=-1)\n",
    "grid_search.fit(X_train_selected, y_train)\n",
    "\n",
    "best_params = grid_search.best_params_\n",
    "print(\"Best n_estimators:\", best_params['n_estimators'])\n"
   ]
  },
  {
   "cell_type": "code",
   "execution_count": 30,
   "metadata": {},
   "outputs": [
    {
     "name": "stdout",
     "output_type": "stream",
     "text": [
      "\n",
      "Số lượng feature trước khi giảm chiều: 180\n",
      "Số lượng feature sau khi giảm chiều: 31\n"
     ]
    }
   ],
   "source": [
    "# Hiển thị số feature trước và sau khi giảm chiều\n",
    "num_features_before = X_train.shape[1]\n",
    "num_features_after = X_train_selected.shape[1]\n",
    "\n",
    "print(f\"\\nSố lượng feature trước khi giảm chiều: {num_features_before}\")\n",
    "print(f\"Số lượng feature sau khi giảm chiều: {num_features_after}\")\n"
   ]
  },
  {
   "cell_type": "code",
   "execution_count": 31,
   "metadata": {},
   "outputs": [
    {
     "name": "stdout",
     "output_type": "stream",
     "text": [
      "\n",
      "Evaluating Model after Feature Selection:\n",
      "\n",
      "rf Selected (Test) Model Performance:\n",
      "Accuracy: 0.9888\n",
      "F1 Score: 0.9890\n",
      "Classification Report:\n",
      "              precision    recall  f1-score   support\n",
      "\n",
      "           0       1.00      0.98      0.99      5600\n",
      "           1       0.98      1.00      0.99      5600\n",
      "\n",
      "    accuracy                           0.99     11200\n",
      "   macro avg       0.99      0.99      0.99     11200\n",
      "weighted avg       0.99      0.99      0.99     11200\n",
      "\n",
      "\n",
      "rf Selected (Validation) Model Performance:\n",
      "Accuracy: 0.9867\n",
      "F1 Score: 0.9870\n",
      "Classification Report:\n",
      "              precision    recall  f1-score   support\n",
      "\n",
      "           0       1.00      0.98      0.99      2200\n",
      "           1       0.98      1.00      0.99      2249\n",
      "\n",
      "    accuracy                           0.99      4449\n",
      "   macro avg       0.99      0.99      0.99      4449\n",
      "weighted avg       0.99      0.99      0.99      4449\n",
      "\n"
     ]
    }
   ],
   "source": [
    "rf_selected = RandomForestClassifier(n_estimators=best_params['n_estimators'], random_state=42)\n",
    "rf_selected.fit(X_train_selected, y_train)\n",
    "\n",
    "# Dự đoán trên tập test và validation\n",
    "y_test_pred_selected = rf_selected.predict(X_test_selected)\n",
    "y_val_pred_selected = rf_selected.predict(X_val_selected)\n",
    "\n",
    "# Hàm đánh giá mô hình\n",
    "def evaluate_model(y_true, y_pred, model_type):\n",
    "    precision = precision_score(y_true, y_pred, average=\"binary\")\n",
    "    accuracy = accuracy_score(y_true, y_pred)\n",
    "    f1 = f1_score(y_true, y_pred)\n",
    "    print(f\"\\n{model_type} Model Performance:\")\n",
    "    print(f\"Accuracy: {accuracy:.4f}\")\n",
    "    print(f\"F1 Score: {f1:.4f}\")\n",
    "    print(f\"Classification Report:\\n{classification_report(y_true, y_pred)}\")\n",
    "    return precision, accuracy, f1\n",
    "\n",
    "print(\"\\nEvaluating Model after Feature Selection:\")\n",
    "selected_test_results = evaluate_model(y_test, y_test_pred_selected, \"rf Selected (Test)\")\n",
    "selected_val_results = evaluate_model(y_val, y_val_pred_selected, \"rf Selected (Validation)\")\n"
   ]
  },
  {
   "cell_type": "markdown",
   "metadata": {},
   "source": [
    "feature selection + PCA"
   ]
  },
  {
   "cell_type": "code",
   "execution_count": 32,
   "metadata": {},
   "outputs": [
    {
     "name": "stdout",
     "output_type": "stream",
     "text": [
      "Tổng số feature ban đầu: 180\n",
      "feature selection: 31\n",
      "PCA: 149\n",
      "PCA component: 5\n",
      "sau Feature Selection + PCA: 36\n",
      "\n",
      "Best Parameters: {'max_depth': None, 'min_samples_split': 5, 'n_estimators': 200}\n",
      "\n",
      "rf Hybrid (Test) Model Performance:\n",
      "Accuracy: 0.9946\n",
      "F1 Score: 0.9947\n",
      "Classification Report:\n",
      "              precision    recall  f1-score   support\n",
      "\n",
      "           0       1.00      0.99      0.99      5600\n",
      "           1       0.99      1.00      0.99      5600\n",
      "\n",
      "    accuracy                           0.99     11200\n",
      "   macro avg       0.99      0.99      0.99     11200\n",
      "weighted avg       0.99      0.99      0.99     11200\n",
      "\n",
      "\n",
      "rf Hybrid (Validation) Model Performance:\n",
      "Accuracy: 0.9962\n",
      "F1 Score: 0.9962\n",
      "Classification Report:\n",
      "              precision    recall  f1-score   support\n",
      "\n",
      "           0       1.00      0.99      1.00      2200\n",
      "           1       0.99      1.00      1.00      2249\n",
      "\n",
      "    accuracy                           1.00      4449\n",
      "   macro avg       1.00      1.00      1.00      4449\n",
      "weighted avg       1.00      1.00      1.00      4449\n",
      "\n"
     ]
    },
    {
     "data": {
      "text/plain": [
       "(0.9924977934686673, 0.9961789166104743, 0.996234772978959)"
      ]
     },
     "execution_count": 32,
     "metadata": {},
     "output_type": "execute_result"
    }
   ],
   "source": [
    "from sklearn.decomposition import PCA\n",
    "from sklearn.ensemble import RandomForestClassifier\n",
    "from sklearn.model_selection import GridSearchCV\n",
    "from sklearn.preprocessing import StandardScaler\n",
    "import numpy as np\n",
    "\n",
    "# Huấn luyện mô hình RandomForest để lấy feature importance\n",
    "rf = RandomForestClassifier(n_estimators=100, random_state=42)\n",
    "rf.fit(X_train, y_train)\n",
    "\n",
    "# Lấy độ quan trọng của từng feature\n",
    "feature_importances = rf.feature_importances_\n",
    "\n",
    "# Xác định ngưỡng trung bình\n",
    "threshold = np.mean(feature_importances)\n",
    "\n",
    "# Tách feature quan trọng và ít quan trọng\n",
    "important_features_idx = np.where(feature_importances >= threshold)[0]\n",
    "less_important_features_idx = np.where(feature_importances < threshold)[0]\n",
    "\n",
    "X_train_selected = X_train.iloc[:, important_features_idx]\n",
    "X_test_selected = X_test.iloc[:, important_features_idx]\n",
    "X_val_selected = X_val.iloc[:, important_features_idx]\n",
    "\n",
    "# Xác định số lượng feature từng bước\n",
    "print(f\"Tổng số feature ban đầu: {X_train.shape[1]}\")\n",
    "print(f\"feature selection: {X_train_selected.shape[1]}\")\n",
    "print(f\"PCA: {len(less_important_features_idx)}\")\n",
    "\n",
    "# Chuẩn hóa dữ liệu trước khi áp dụng PCA\n",
    "scaler = StandardScaler()\n",
    "X_train_pca_input = scaler.fit_transform(X_train.iloc[:, less_important_features_idx])\n",
    "X_test_pca_input = scaler.transform(X_test.iloc[:, less_important_features_idx])\n",
    "X_val_pca_input = scaler.transform(X_val.iloc[:, less_important_features_idx])\n",
    "\n",
    "# Áp dụng PCA lên phần feature ít quan trọng\n",
    "n_pca_components = min(5, len(less_important_features_idx))\n",
    "if n_pca_components > 0:\n",
    "    pca = PCA(n_components=n_pca_components)\n",
    "    X_train_pca = pca.fit_transform(X_train_pca_input)\n",
    "    X_test_pca = pca.transform(X_test_pca_input)\n",
    "    X_val_pca = pca.transform(X_val_pca_input)\n",
    "    print(f\"PCA component: {n_pca_components}\")\n",
    "else:\n",
    "    X_train_pca = np.empty((X_train.shape[0], 0))\n",
    "    X_test_pca = np.empty((X_test.shape[0], 0))\n",
    "    X_val_pca = np.empty((X_val.shape[0], 0))\n",
    "    print(\"Không có feature nào được PCA giữ lại!\")\n",
    "\n",
    "# Ghép dữ liệu lại\n",
    "X_train_final = np.hstack((X_train_selected, X_train_pca))\n",
    "X_test_final = np.hstack((X_test_selected, X_test_pca))\n",
    "X_val_final = np.hstack((X_val_selected, X_val_pca))\n",
    "\n",
    "print(f\"sau Feature Selection + PCA: {X_train_final.shape[1]}\")\n",
    "\n",
    "param_grid = {\n",
    "    'n_estimators': [50, 100, 150, 200],\n",
    "    'max_depth': [None, 10, 20, 30],\n",
    "    'min_samples_split': [2, 5, 10]\n",
    "}\n",
    "\n",
    "grid_search = GridSearchCV(RandomForestClassifier(random_state=42), param_grid, cv=5, scoring='accuracy', n_jobs=-1)\n",
    "grid_search.fit(X_val_final, y_val)\n",
    "\n",
    "best_params = grid_search.best_params_\n",
    "print(\"\\nBest Parameters:\", best_params)\n",
    "\n",
    "# Huấn luyện lại mô hình với tham số tối ưu\n",
    "rf_final = RandomForestClassifier(**best_params, random_state=42)\n",
    "rf_final.fit(X_train_final, y_train)\n",
    "\n",
    "# Dự đoán và đánh giá\n",
    "y_test_pred = rf_final.predict(X_test_final)\n",
    "y_val_pred = rf_final.predict(X_val_final)\n",
    "\n",
    "evaluate_model(y_test, y_test_pred, \"rf Hybrid (Test)\")\n",
    "evaluate_model(y_val, y_val_pred, \"rf Hybrid (Validation)\")\n"
   ]
  },
  {
   "cell_type": "markdown",
   "metadata": {},
   "source": [
    "### ensemble learning"
   ]
  },
  {
   "cell_type": "markdown",
   "metadata": {},
   "source": [
    "#### Soft Voting"
   ]
  },
  {
   "cell_type": "code",
   "execution_count": 33,
   "metadata": {},
   "outputs": [
    {
     "name": "stdout",
     "output_type": "stream",
     "text": [
      "\n",
      "Đánh giá Soft Voting trên tập validation:\n",
      "              precision    recall  f1-score   support\n",
      "\n",
      "           0       1.00      0.96      0.98      2200\n",
      "           1       0.96      1.00      0.98      2249\n",
      "\n",
      "    accuracy                           0.98      4449\n",
      "   macro avg       0.98      0.98      0.98      4449\n",
      "weighted avg       0.98      0.98      0.98      4449\n",
      "\n",
      "\n",
      "Đánh giá Soft Voting trên tập test:\n",
      "              precision    recall  f1-score   support\n",
      "\n",
      "           0       1.00      0.89      0.94      5600\n",
      "           1       0.90      1.00      0.95      5600\n",
      "\n",
      "    accuracy                           0.95     11200\n",
      "   macro avg       0.95      0.95      0.95     11200\n",
      "weighted avg       0.95      0.95      0.95     11200\n",
      "\n",
      "Accuracy trên tập validation: 0.9804\n",
      "Accuracy trên tập test: 0.9460\n"
     ]
    }
   ],
   "source": [
    "from sklearn.metrics import accuracy_score, classification_report\n",
    "from sklearn.ensemble import VotingClassifier, RandomForestClassifier\n",
    "from sklearn.naive_bayes import GaussianNB\n",
    "\n",
    "\n",
    "best_models = [\n",
    "    (\"NB\", GaussianNB()),\n",
    "    (\"Random Forest\", RandomForestClassifier(\n",
    "        n_estimators=35, criterion=\"gini\", max_depth=None, min_samples_split=2, random_state=42\n",
    "    ))\n",
    "]\n",
    "\n",
    "soft_voting_clf = VotingClassifier(estimators=best_models, voting='soft', n_jobs=-1)\n",
    "soft_voting_clf.fit(X_train_final, y_train)\n",
    "\n",
    "# Dự đoán\n",
    "y_val_pred = soft_voting_clf.predict(X_val_final)\n",
    "y_test_pred = soft_voting_clf.predict(X_test_final)\n",
    "\n",
    "# Đánh giá\n",
    "val_acc = accuracy_score(y_val, y_val_pred)\n",
    "test_acc = accuracy_score(y_test, y_test_pred)\n",
    "\n",
    "print(\"\\nĐánh giá Soft Voting trên tập validation:\")\n",
    "print(classification_report(y_val, y_val_pred))\n",
    "\n",
    "print(\"\\nĐánh giá Soft Voting trên tập test:\")\n",
    "print(classification_report(y_test, y_test_pred))\n",
    "\n",
    "print(f\"Accuracy trên tập validation: {val_acc:.4f}\")\n",
    "print(f\"Accuracy trên tập test: {test_acc:.4f}\")"
   ]
  },
  {
   "cell_type": "markdown",
   "metadata": {},
   "source": [
    "#### Hard Voting"
   ]
  },
  {
   "cell_type": "code",
   "execution_count": 34,
   "metadata": {},
   "outputs": [
    {
     "name": "stdout",
     "output_type": "stream",
     "text": [
      "\n",
      "Đánh giá Soft Voting trên tập validation:\n",
      "              precision    recall  f1-score   support\n",
      "\n",
      "           0       1.00      0.99      1.00      2200\n",
      "           1       0.99      1.00      1.00      2249\n",
      "\n",
      "    accuracy                           1.00      4449\n",
      "   macro avg       1.00      1.00      1.00      4449\n",
      "weighted avg       1.00      1.00      1.00      4449\n",
      "\n",
      "\n",
      "Đánh giá Soft Voting trên tập test:\n",
      "              precision    recall  f1-score   support\n",
      "\n",
      "           0       1.00      0.94      0.97      5600\n",
      "           1       0.94      1.00      0.97      5600\n",
      "\n",
      "    accuracy                           0.97     11200\n",
      "   macro avg       0.97      0.97      0.97     11200\n",
      "weighted avg       0.97      0.97      0.97     11200\n",
      "\n",
      "Accuracy trên tập validation: 0.9964\n",
      "Accuracy trên tập test: 0.9691\n"
     ]
    }
   ],
   "source": [
    "from sklearn.ensemble import VotingClassifier, RandomForestClassifier, GradientBoostingClassifier\n",
    "from sklearn.svm import SVC\n",
    "from sklearn.neighbors import KNeighborsClassifier\n",
    "from sklearn.ensemble import ExtraTreesClassifier\n",
    "\n",
    "best_models = [\n",
    "    (\"NB\", GaussianNB()),\n",
    "    (\"Random Forest\", RandomForestClassifier(\n",
    "        n_estimators=35, criterion=\"entropy\", max_depth=None, min_samples_split=2, random_state=42\n",
    "    )),\n",
    "    (\"Extra Trees\", ExtraTreesClassifier(\n",
    "        criterion=\"entropy\", max_depth=None, min_samples_split=2, n_estimators=200, random_state=42\n",
    "    ))\n",
    "]\n",
    "\n",
    "soft_voting_clf = VotingClassifier(estimators=best_models, voting='hard', n_jobs=-1)\n",
    "soft_voting_clf.fit(X_train_final, y_train)\n",
    "\n",
    "# Dự đoán\n",
    "y_val_pred = soft_voting_clf.predict(X_val_final)\n",
    "y_test_pred = soft_voting_clf.predict(X_test_final)\n",
    "\n",
    "# Đánh giá\n",
    "val_acc = accuracy_score(y_val, y_val_pred)\n",
    "test_acc = accuracy_score(y_test, y_test_pred)\n",
    "\n",
    "print(\"\\nĐánh giá Soft Voting trên tập validation:\")\n",
    "print(classification_report(y_val, y_val_pred))\n",
    "\n",
    "print(\"\\nĐánh giá Soft Voting trên tập test:\")\n",
    "print(classification_report(y_test, y_test_pred))\n",
    "\n",
    "print(f\"Accuracy trên tập validation: {val_acc:.4f}\")\n",
    "print(f\"Accuracy trên tập test: {test_acc:.4f}\")"
   ]
  },
  {
   "cell_type": "markdown",
   "metadata": {},
   "source": [
    "#### Weighted Voting"
   ]
  },
  {
   "cell_type": "code",
   "execution_count": 35,
   "metadata": {},
   "outputs": [
    {
     "name": "stdout",
     "output_type": "stream",
     "text": [
      "Weights theo accuracy trên validation: [0.9777478084962913, 0.9934816812766913]\n",
      "Accuracy on validation: 0.9798\n",
      "              precision    recall  f1-score   support\n",
      "\n",
      "           0       1.00      0.96      0.98      2200\n",
      "           1       0.96      1.00      0.98      2249\n",
      "\n",
      "    accuracy                           0.98      4449\n",
      "   macro avg       0.98      0.98      0.98      4449\n",
      "weighted avg       0.98      0.98      0.98      4449\n",
      "\n",
      "Accuracy on test: 0.9437\n",
      "              precision    recall  f1-score   support\n",
      "\n",
      "           0       1.00      0.89      0.94      5600\n",
      "           1       0.90      1.00      0.95      5600\n",
      "\n",
      "    accuracy                           0.94     11200\n",
      "   macro avg       0.95      0.94      0.94     11200\n",
      "weighted avg       0.95      0.94      0.94     11200\n",
      "\n"
     ]
    }
   ],
   "source": [
    "from sklearn.metrics import accuracy_score\n",
    "from sklearn.ensemble import VotingClassifier, RandomForestClassifier, GradientBoostingClassifier\n",
    "\n",
    "best_models = [\n",
    "    (\"NB\", GaussianNB()),\n",
    "    (\"Random Forest\", RandomForestClassifier(\n",
    "        n_estimators=35, criterion=\"entropy\", max_depth=None, min_samples_split=2, random_state=42\n",
    "    ))\n",
    "]\n",
    "\n",
    "\n",
    "weights = []\n",
    "for name, model in best_models:\n",
    "    model.fit(X_train_final, y_train)\n",
    "    y_val_pred = model.predict(X_val_final)\n",
    "    acc = accuracy_score(y_val, y_val_pred)\n",
    "    weights.append(acc)\n",
    "    \n",
    "print(\"Weights theo accuracy trên validation:\", weights)\n",
    "\n",
    "soft_voting_clf = VotingClassifier(estimators=best_models, voting='soft', weights=weights, n_jobs=-1)\n",
    "\n",
    "soft_voting_clf.fit(X_train_final, y_train)\n",
    "\n",
    "y_val_pred = soft_voting_clf.predict(X_val_final)\n",
    "y_test_pred = soft_voting_clf.predict(X_test_final)\n",
    "\n",
    "val_acc = accuracy_score(y_val, y_val_pred)\n",
    "test_acc = accuracy_score(y_test, y_test_pred)\n",
    "\n",
    "print(f\"Accuracy on validation: {val_acc:.4f}\")\n",
    "print(classification_report(y_val, y_val_pred))\n",
    "\n",
    "print(f\"Accuracy on test: {test_acc:.4f}\")\n",
    "print(classification_report(y_test, y_test_pred))"
   ]
  },
  {
   "cell_type": "markdown",
   "metadata": {},
   "source": [
    "#### Stacking"
   ]
  },
  {
   "cell_type": "code",
   "execution_count": 36,
   "metadata": {},
   "outputs": [
    {
     "name": "stdout",
     "output_type": "stream",
     "text": [
      "\n",
      "Đánh giá Stacking trên tập validation:\n",
      "              precision    recall  f1-score   support\n",
      "\n",
      "           0       1.00      0.97      0.98      2200\n",
      "           1       0.97      1.00      0.98      2249\n",
      "\n",
      "    accuracy                           0.98      4449\n",
      "   macro avg       0.98      0.98      0.98      4449\n",
      "weighted avg       0.98      0.98      0.98      4449\n",
      "\n",
      "Accuracy trên tập validation: 0.9829\n",
      "\n",
      "Đánh giá Stacking trên tập test:\n",
      "              precision    recall  f1-score   support\n",
      "\n",
      "           0       1.00      0.90      0.95      5600\n",
      "           1       0.91      1.00      0.95      5600\n",
      "\n",
      "    accuracy                           0.95     11200\n",
      "   macro avg       0.95      0.95      0.95     11200\n",
      "weighted avg       0.95      0.95      0.95     11200\n",
      "\n",
      "Accuracy trên tập test: 0.9483\n"
     ]
    }
   ],
   "source": [
    "from sklearn.ensemble import StackingClassifier\n",
    "from sklearn.ensemble import RandomForestClassifier, GradientBoostingClassifier\n",
    "from sklearn.neighbors import KNeighborsClassifier\n",
    "from sklearn.linear_model import LogisticRegression\n",
    "from sklearn.metrics import accuracy_score, classification_report\n",
    "\n",
    "# Tạo các mô hình base\n",
    "best_models = [\n",
    "    (\"NB\", GaussianNB()),\n",
    "    (\"Random Forest\", RandomForestClassifier(\n",
    "        n_estimators=35, criterion=\"entropy\", max_depth=None, min_samples_split=2, random_state=42\n",
    "    ))\n",
    "]\n",
    "\n",
    "# Meta model - dùng Logistic Regression (thay vì Linear Regression vì bài toán phân loại)\n",
    "meta_model = LogisticRegression(random_state=42)\n",
    "\n",
    "# Tạo Stacking Classifier\n",
    "stacking_clf = StackingClassifier(estimators=best_models, final_estimator=meta_model, cv=5, n_jobs=-1)\n",
    "\n",
    "# Huấn luyện mô hình\n",
    "stacking_clf.fit(X_train_final, y_train)\n",
    "\n",
    "# Dự đoán\n",
    "y_val_pred = stacking_clf.predict(X_val_final)\n",
    "y_test_pred = stacking_clf.predict(X_test_final)\n",
    "\n",
    "# Đánh giá mô hình\n",
    "val_acc = accuracy_score(y_val, y_val_pred)\n",
    "test_acc = accuracy_score(y_test, y_test_pred)\n",
    "\n",
    "print(\"\\nĐánh giá Stacking trên tập validation:\")\n",
    "print(classification_report(y_val, y_val_pred))\n",
    "print(f\"Accuracy trên tập validation: {val_acc:.4f}\")\n",
    "\n",
    "print(\"\\nĐánh giá Stacking trên tập test:\")\n",
    "print(classification_report(y_test, y_test_pred))\n",
    "print(f\"Accuracy trên tập test: {test_acc:.4f}\")\n"
   ]
  },
  {
   "cell_type": "code",
   "execution_count": 37,
   "metadata": {},
   "outputs": [
    {
     "name": "stdout",
     "output_type": "stream",
     "text": [
      "Fitting 5 folds for each of 567 candidates, totalling 2835 fits\n",
      "Best parameters: {'criterion': 'entropy', 'max_depth': 10, 'min_samples_split': 3, 'n_estimators': 150}\n",
      "\n",
      "Đánh giá trên tập validation:\n",
      "              precision    recall  f1-score   support\n",
      "\n",
      "           0       1.00      0.99      1.00      2200\n",
      "           1       0.99      1.00      1.00      2249\n",
      "\n",
      "    accuracy                           1.00      4449\n",
      "   macro avg       1.00      1.00      1.00      4449\n",
      "weighted avg       1.00      1.00      1.00      4449\n",
      "\n",
      "Accuracy trên tập validation: 0.9971\n",
      "F1 Score trên tập validation: 0.9971\n",
      "\n",
      "Đánh giá trên tập test:\n",
      "              precision    recall  f1-score   support\n",
      "\n",
      "           0       1.00      0.98      0.99      5600\n",
      "           1       0.98      1.00      0.99      5600\n",
      "\n",
      "    accuracy                           0.99     11200\n",
      "   macro avg       0.99      0.99      0.99     11200\n",
      "weighted avg       0.99      0.99      0.99     11200\n",
      "\n",
      "Accuracy trên tập test: 0.9916\n",
      "F1 Score trên tập test: 0.9917\n"
     ]
    }
   ],
   "source": [
    "from sklearn.ensemble import ExtraTreesClassifier\n",
    "from sklearn.metrics import accuracy_score, classification_report, f1_score\n",
    "\n",
    "# Định nghĩa tập tham số cần tìm kiếm\n",
    "param_grid = {\n",
    "    'criterion' :['gini', 'entropy', 'log_loss'],\n",
    "    'n_estimators': [30, 40, 50, 60, 100, 150, 200],\n",
    "    'max_depth': [ 10, 20, 30],\n",
    "    'min_samples_split': [2, 3, 4, 5, 6, 7, 8, 9, 10]\n",
    "}\n",
    "\n",
    "# Khởi tạo mô hình Random Forest\n",
    "rf_model = ExtraTreesClassifier(random_state=42)\n",
    "\n",
    "# Khởi tạo GridSearchCV với 5-fold cross-validation\n",
    "grid_search = GridSearchCV(\n",
    "    rf_model, param_grid, cv=5, scoring='accuracy', n_jobs=-1, verbose=1\n",
    ")\n",
    "\n",
    "# Chạy Grid Search trên tập huấn luyện\n",
    "grid_search.fit(X_train_final, y_train)\n",
    "\n",
    "# Lấy tham số tốt nhất\n",
    "best_params = grid_search.best_params_\n",
    "print(f\"Best parameters: {best_params}\")\n",
    "\n",
    "# Huấn luyện mô hình với tham số tối ưu\n",
    "best_model = ExtraTreesClassifier(**best_params, random_state=42)\n",
    "best_model.fit(X_train_final, y_train)\n",
    "\n",
    "# Dự đoán trên tập validation và test\n",
    "y_val_pred = best_model.predict(X_val_final)\n",
    "y_test_pred = best_model.predict(X_test_final)\n",
    "\n",
    "print(\"\\nĐánh giá trên tập validation:\")\n",
    "print(classification_report(y_val, y_val_pred))\n",
    "val_accuracy = accuracy_score(y_val, y_val_pred)\n",
    "val_f1 = f1_score(y_val, y_val_pred)\n",
    "print(f\"Accuracy trên tập validation: {val_accuracy:.4f}\")\n",
    "print(f\"F1 Score trên tập validation: {val_f1:.4f}\")\n",
    "\n",
    "# Đánh giá mô hình trên tập test\n",
    "print(\"\\nĐánh giá trên tập test:\")\n",
    "print(classification_report(y_test, y_test_pred))\n",
    "test_accuracy = accuracy_score(y_test, y_test_pred)\n",
    "test_f1 = f1_score(y_test, y_test_pred)\n",
    "print(f\"Accuracy trên tập test: {test_accuracy:.4f}\")\n",
    "print(f\"F1 Score trên tập test: {test_f1:.4f}\")"
   ]
  }
 ],
 "metadata": {
  "kernelspec": {
   "display_name": "Python 3",
   "language": "python",
   "name": "python3"
  },
  "language_info": {
   "codemirror_mode": {
    "name": "ipython",
    "version": 3
   },
   "file_extension": ".py",
   "mimetype": "text/x-python",
   "name": "python",
   "nbconvert_exporter": "python",
   "pygments_lexer": "ipython3",
   "version": "3.10.11"
  }
 },
 "nbformat": 4,
 "nbformat_minor": 2
}
