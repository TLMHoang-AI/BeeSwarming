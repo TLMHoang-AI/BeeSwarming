{
 "cells": [
  {
   "cell_type": "code",
   "execution_count": 10,
   "metadata": {},
   "outputs": [],
   "source": [
    "import pickle\n",
    "import pandas as pd\n",
    "from sklearn.model_selection import train_test_split\n",
    "from sklearn.svm import SVC\n",
    "from sklearn.metrics import classification_report\n",
    "import numpy as np\n",
    "from sklearn.metrics import accuracy_score, f1_score\n",
    "from sklearn.neighbors import KNeighborsClassifier\n",
    "from sklearn.ensemble import GradientBoostingClassifier"
   ]
  },
  {
   "cell_type": "code",
   "execution_count": 11,
   "metadata": {},
   "outputs": [],
   "source": [
    "def load_pickle_data(file_path):\n",
    "    with open(file_path, 'rb') as f:\n",
    "        data = pickle.load(f)\n",
    "    return data"
   ]
  },
  {
   "cell_type": "code",
   "execution_count": 12,
   "metadata": {},
   "outputs": [],
   "source": [
    "train_data = load_pickle_data(\"Train_stft_features.pkl\")\n",
    "val_data = load_pickle_data(\"Val_stft_features.pkl\")\n",
    "test_data = load_pickle_data(\"Test_stft_features.pkl\")"
   ]
  },
  {
   "cell_type": "markdown",
   "metadata": {},
   "source": [
    "# SVM (Support vector machine)"
   ]
  },
  {
   "cell_type": "code",
   "execution_count": 13,
   "metadata": {},
   "outputs": [
    {
     "name": "stdout",
     "output_type": "stream",
     "text": [
      "Classification report for Validation Set:\n",
      "               precision    recall  f1-score   support\n",
      "\n",
      "None_swarming       0.48      0.42      0.45      1800\n",
      "     Swarming       0.48      0.55      0.51      1800\n",
      "\n",
      "     accuracy                           0.48      3600\n",
      "    macro avg       0.48      0.48      0.48      3600\n",
      " weighted avg       0.48      0.48      0.48      3600\n",
      "\n",
      "Accuracy: 0.4822222222222222\n",
      "F1-Score: 0.4799107142857142\n",
      "\n",
      "Classification report for Test Set:\n",
      "               precision    recall  f1-score   support\n",
      "\n",
      "None_swarming       0.43      0.72      0.54      2400\n",
      "     Swarming       0.19      0.06      0.09      2441\n",
      "\n",
      "     accuracy                           0.39      4841\n",
      "    macro avg       0.31      0.39      0.32      4841\n",
      " weighted avg       0.31      0.39      0.32      4841\n",
      "\n",
      "Accuracy (Test): 0.39103491014253255\n",
      "F1-Score (Test): 0.3158154335393749\n"
     ]
    }
   ],
   "source": [
    "X_train = []\n",
    "y_train = []\n",
    "\n",
    "for item in train_data:\n",
    "    stft = np.std(item['stft'], axis=1) \n",
    "    label = item['category']\n",
    "\n",
    "    X_train.append(stft)\n",
    "    y_train.append(label)\n",
    "\n",
    "X_train = np.array(X_train)\n",
    "y_train = np.array(y_train)\n",
    "\n",
    "X_val = []\n",
    "y_val = []\n",
    "\n",
    "for item in val_data:\n",
    "    stft = np.std(item['stft'], axis=1) \n",
    "    label = item['category']\n",
    "\n",
    "    X_val.append(stft)\n",
    "    y_val.append(label)\n",
    "\n",
    "X_val = np.array(X_val)\n",
    "y_val = np.array(y_val)\n",
    "\n",
    "svm_model = SVC(kernel='linear', random_state=42)\n",
    "svm_model.fit(X_train, y_train)\n",
    "\n",
    "y_pred = svm_model.predict(X_val)\n",
    "\n",
    "accuracy = accuracy_score(y_val, y_pred)\n",
    "f1 = f1_score(y_val, y_pred, average='weighted')\n",
    "\n",
    "print(\"Classification report for Validation Set:\")\n",
    "print(classification_report(y_val, y_pred))\n",
    "\n",
    "print(f\"Accuracy: {accuracy}\")\n",
    "print(f\"F1-Score: {f1}\")\n",
    "\n",
    "X_test = []\n",
    "y_test = []\n",
    "\n",
    "for item in test_data:\n",
    "    stft = np.std(item['stft'], axis=1) \n",
    "    label = item['category']\n",
    "\n",
    "    X_test.append(stft)\n",
    "    y_test.append(label)\n",
    "\n",
    "X_test = np.array(X_test)\n",
    "y_test = np.array(y_test)\n",
    "\n",
    "y_test_pred = svm_model.predict(X_test)\n",
    "\n",
    "accuracy_test = accuracy_score(y_test, y_test_pred)\n",
    "f1_test = f1_score(y_test, y_test_pred, average='weighted')\n",
    "\n",
    "print(\"\\nClassification report for Test Set:\")\n",
    "print(classification_report(y_test, y_test_pred))\n",
    "\n",
    "print(f\"Accuracy (Test): {accuracy_test}\")\n",
    "print(f\"F1-Score (Test): {f1_test}\")\n"
   ]
  },
  {
   "cell_type": "markdown",
   "metadata": {},
   "source": [
    "# KNN (K-Nearest Neighbors)"
   ]
  },
  {
   "cell_type": "code",
   "execution_count": 14,
   "metadata": {},
   "outputs": [
    {
     "name": "stdout",
     "output_type": "stream",
     "text": [
      "Classification report for Validation Set:\n",
      "               precision    recall  f1-score   support\n",
      "\n",
      "None_swarming       0.44      0.41      0.42      1800\n",
      "     Swarming       0.45      0.48      0.47      1800\n",
      "\n",
      "     accuracy                           0.45      3600\n",
      "    macro avg       0.45      0.45      0.45      3600\n",
      " weighted avg       0.45      0.45      0.45      3600\n",
      "\n",
      "Accuracy on Validation Set (KNN): 0.4463888888888889\n",
      "F1-Score on Validation Set (KNN): 0.4455623232753088\n",
      "Classification report for Test Set:\n",
      "               precision    recall  f1-score   support\n",
      "\n",
      "None_swarming       0.44      0.76      0.56      2400\n",
      "     Swarming       0.21      0.06      0.10      2441\n",
      "\n",
      "     accuracy                           0.41      4841\n",
      "    macro avg       0.33      0.41      0.33      4841\n",
      " weighted avg       0.33      0.41      0.33      4841\n",
      "\n",
      "Accuracy on Test Set (KNN): 0.40900640363561247\n",
      "F1-Score on Test Set (KNN): 0.32655355789765667\n"
     ]
    }
   ],
   "source": [
    "knn_model = KNeighborsClassifier(n_neighbors=6)\n",
    "knn_model.fit(X_train, y_train)\n",
    "\n",
    "y_val_pred_knn = knn_model.predict(X_val)\n",
    "\n",
    "print(\"Classification report for Validation Set:\")\n",
    "print(classification_report(y_val, y_val_pred_knn))\n",
    "\n",
    "accuracy_val_knn = accuracy_score(y_val, y_val_pred_knn)\n",
    "f1_val_knn = f1_score(y_val, y_val_pred_knn, average='weighted')\n",
    "\n",
    "print(f\"Accuracy on Validation Set (KNN): {accuracy_val_knn}\")\n",
    "print(f\"F1-Score on Validation Set (KNN): {f1_val_knn}\")\n",
    "\n",
    "y_test_pred_knn = knn_model.predict(X_test)\n",
    "\n",
    "print(\"Classification report for Test Set:\")\n",
    "print(classification_report(y_test, y_test_pred_knn))\n",
    "\n",
    "accuracy_test_knn = accuracy_score(y_test, y_test_pred_knn)\n",
    "f1_test_knn = f1_score(y_test, y_test_pred_knn, average='weighted')\n",
    "\n",
    "print(f\"Accuracy on Test Set (KNN): {accuracy_test_knn}\")\n",
    "print(f\"F1-Score on Test Set (KNN): {f1_test_knn}\")"
   ]
  },
  {
   "cell_type": "markdown",
   "metadata": {},
   "source": [
    "# NB (Naive Bayes)"
   ]
  },
  {
   "cell_type": "code",
   "execution_count": 15,
   "metadata": {},
   "outputs": [
    {
     "name": "stdout",
     "output_type": "stream",
     "text": [
      "Classification report for Validation Set:\n",
      "               precision    recall  f1-score   support\n",
      "\n",
      "None_swarming       0.41      0.35      0.38      1800\n",
      "     Swarming       0.43      0.49      0.46      1800\n",
      "\n",
      "     accuracy                           0.42      3600\n",
      "    macro avg       0.42      0.42      0.42      3600\n",
      " weighted avg       0.42      0.42      0.42      3600\n",
      "\n",
      "Accuracy: 0.4186111111111111\n",
      "F1-Score: 0.41577106426076327\n",
      "\n",
      "Classification report for Test Set:\n",
      "               precision    recall  f1-score   support\n",
      "\n",
      "None_swarming       0.43      0.72      0.54      2400\n",
      "     Swarming       0.19      0.06      0.09      2441\n",
      "\n",
      "     accuracy                           0.39      4841\n",
      "    macro avg       0.31      0.39      0.32      4841\n",
      " weighted avg       0.31      0.39      0.32      4841\n",
      "\n",
      "Accuracy (Test): 0.39103491014253255\n",
      "F1-Score (Test): 0.3158154335393749\n"
     ]
    }
   ],
   "source": [
    "from sklearn.naive_bayes import GaussianNB\n",
    "nb_model = GaussianNB()\n",
    "nb_model.fit(X_train, y_train)\n",
    "\n",
    "y_pred = nb_model.predict(X_val)\n",
    "\n",
    "accuracy = accuracy_score(y_val, y_pred)\n",
    "f1 = f1_score(y_val, y_pred, average='weighted')\n",
    "\n",
    "print(\"Classification report for Validation Set:\")\n",
    "print(classification_report(y_val, y_pred))\n",
    "\n",
    "print(f\"Accuracy: {accuracy}\")\n",
    "print(f\"F1-Score: {f1}\")\n",
    "\n",
    "accuracy_test = accuracy_score(y_test, y_test_pred)\n",
    "f1_test = f1_score(y_test, y_test_pred, average='weighted')\n",
    "\n",
    "print(\"\\nClassification report for Test Set:\")\n",
    "print(classification_report(y_test, y_test_pred))\n",
    "\n",
    "print(f\"Accuracy (Test): {accuracy_test}\")\n",
    "print(f\"F1-Score (Test): {f1_test}\")"
   ]
  },
  {
   "cell_type": "markdown",
   "metadata": {},
   "source": [
    "# Random Forest(RF)"
   ]
  },
  {
   "cell_type": "code",
   "execution_count": 16,
   "metadata": {},
   "outputs": [
    {
     "name": "stdout",
     "output_type": "stream",
     "text": [
      "Classification report for Validation Set:\n",
      "               precision    recall  f1-score   support\n",
      "\n",
      "None_swarming       0.50      0.43      0.46      1800\n",
      "     Swarming       0.50      0.56      0.53      1800\n",
      "\n",
      "     accuracy                           0.50      3600\n",
      "    macro avg       0.50      0.50      0.49      3600\n",
      " weighted avg       0.50      0.50      0.49      3600\n",
      "\n",
      "Accuracy: 0.4961111111111111\n",
      "F1-Score: 0.4938991065580149\n",
      "\n",
      "Classification report for Test Set:\n",
      "               precision    recall  f1-score   support\n",
      "\n",
      "None_swarming       0.41      0.66      0.50      2400\n",
      "     Swarming       0.17      0.07      0.10      2441\n",
      "\n",
      "     accuracy                           0.36      4841\n",
      "    macro avg       0.29      0.36      0.30      4841\n",
      " weighted avg       0.29      0.36      0.30      4841\n",
      "\n",
      "Accuracy (Test): 0.3606692832059492\n",
      "F1-Score (Test): 0.3004251993049194\n"
     ]
    }
   ],
   "source": [
    "from sklearn.ensemble import RandomForestClassifier\n",
    "\n",
    "rf_model = RandomForestClassifier(n_estimators=2000, random_state=42)\n",
    "rf_model.fit(X_train, y_train)\n",
    "\n",
    "y_pred = rf_model.predict(X_val)\n",
    "\n",
    "accuracy = accuracy_score(y_val, y_pred)\n",
    "f1 = f1_score(y_val, y_pred, average='weighted')\n",
    "\n",
    "print(\"Classification report for Validation Set:\")\n",
    "print(classification_report(y_val, y_pred))\n",
    "\n",
    "print(f\"Accuracy: {accuracy}\")\n",
    "print(f\"F1-Score: {f1}\")\n",
    "\n",
    "y_test_pred = rf_model.predict(X_test)\n",
    "\n",
    "accuracy_test = accuracy_score(y_test, y_test_pred)\n",
    "f1_test = f1_score(y_test, y_test_pred, average='weighted')\n",
    "\n",
    "print(\"\\nClassification report for Test Set:\")\n",
    "print(classification_report(y_test, y_test_pred))\n",
    "\n",
    "print(f\"Accuracy (Test): {accuracy_test}\")\n",
    "print(f\"F1-Score (Test): {f1_test}\")\n"
   ]
  },
  {
   "cell_type": "markdown",
   "metadata": {},
   "source": [
    "# Gradient Boosting, GB"
   ]
  },
  {
   "cell_type": "code",
   "execution_count": 17,
   "metadata": {},
   "outputs": [
    {
     "name": "stderr",
     "output_type": "stream",
     "text": [
      "c:\\Users\\Admin\\anaconda3\\envs\\tf\\lib\\site-packages\\tqdm\\auto.py:21: TqdmWarning: IProgress not found. Please update jupyter and ipywidgets. See https://ipywidgets.readthedocs.io/en/stable/user_install.html\n",
      "  from .autonotebook import tqdm as notebook_tqdm\n",
      "[I 2025-02-09 20:14:40,940] A new study created in memory with name: no-name-f2c3abed-09f5-4ef5-b031-1824202723bb\n",
      "[I 2025-02-09 20:18:36,639] Trial 0 finished with value: 0.5172222222222222 and parameters: {'n_estimators': 87, 'learning_rate': 0.06823099874177987, 'max_depth': 10}. Best is trial 0 with value: 0.5172222222222222.\n",
      "[I 2025-02-09 20:20:16,968] Trial 1 finished with value: 0.505 and parameters: {'n_estimators': 156, 'learning_rate': 0.09422552359292131, 'max_depth': 2}. Best is trial 0 with value: 0.5172222222222222.\n",
      "[I 2025-02-09 20:33:51,623] Trial 2 finished with value: 0.515 and parameters: {'n_estimators': 300, 'learning_rate': 0.06300071896223532, 'max_depth': 10}. Best is trial 0 with value: 0.5172222222222222.\n",
      "[I 2025-02-09 20:43:32,164] Trial 3 finished with value: 0.5069444444444444 and parameters: {'n_estimators': 256, 'learning_rate': 0.07291733173537808, 'max_depth': 8}. Best is trial 0 with value: 0.5172222222222222.\n",
      "[I 2025-02-09 20:44:37,350] Trial 4 finished with value: 0.5019444444444444 and parameters: {'n_estimators': 101, 'learning_rate': 0.17369347641859728, 'max_depth': 2}. Best is trial 0 with value: 0.5172222222222222.\n",
      "[I 2025-02-09 20:49:12,367] Trial 5 finished with value: 0.5116666666666667 and parameters: {'n_estimators': 101, 'learning_rate': 0.12725273303116816, 'max_depth': 10}. Best is trial 0 with value: 0.5172222222222222.\n",
      "[I 2025-02-09 20:51:54,558] Trial 6 finished with value: 0.5297222222222222 and parameters: {'n_estimators': 72, 'learning_rate': 0.03551005087811281, 'max_depth': 8}. Best is trial 6 with value: 0.5297222222222222.\n",
      "[I 2025-02-09 21:00:07,581] Trial 7 finished with value: 0.5133333333333333 and parameters: {'n_estimators': 182, 'learning_rate': 0.11844037584388595, 'max_depth': 10}. Best is trial 6 with value: 0.5297222222222222.\n",
      "[I 2025-02-09 21:02:00,188] Trial 8 finished with value: 0.5077777777777778 and parameters: {'n_estimators': 75, 'learning_rate': 0.0817665995870375, 'max_depth': 5}. Best is trial 6 with value: 0.5297222222222222.\n",
      "[I 2025-02-09 21:07:16,394] Trial 9 finished with value: 0.4905555555555556 and parameters: {'n_estimators': 178, 'learning_rate': 0.15300422764896673, 'max_depth': 6}. Best is trial 6 with value: 0.5297222222222222.\n",
      "[I 2025-02-09 21:09:08,604] Trial 10 finished with value: 0.5536111111111112 and parameters: {'n_estimators': 50, 'learning_rate': 0.014188003986286491, 'max_depth': 8}. Best is trial 10 with value: 0.5536111111111112.\n",
      "[I 2025-02-09 21:11:10,150] Trial 11 finished with value: 0.5552777777777778 and parameters: {'n_estimators': 53, 'learning_rate': 0.014662952481763332, 'max_depth': 8}. Best is trial 11 with value: 0.5552777777777778.\n",
      "[I 2025-02-09 21:13:10,333] Trial 12 finished with value: 0.5519444444444445 and parameters: {'n_estimators': 50, 'learning_rate': 0.012745434579955991, 'max_depth': 8}. Best is trial 11 with value: 0.5552777777777778.\n",
      "[I 2025-02-09 21:18:01,820] Trial 13 finished with value: 0.5427777777777778 and parameters: {'n_estimators': 137, 'learning_rate': 0.01328391047199885, 'max_depth': 7}. Best is trial 11 with value: 0.5552777777777778.\n",
      "[I 2025-02-09 21:19:08,330] Trial 14 finished with value: 0.5536111111111112 and parameters: {'n_estimators': 50, 'learning_rate': 0.04186215657801326, 'max_depth': 4}. Best is trial 11 with value: 0.5552777777777778.\n"
     ]
    },
    {
     "name": "stdout",
     "output_type": "stream",
     "text": [
      "Best parameters: {'n_estimators': 53, 'learning_rate': 0.014662952481763332, 'max_depth': 8}\n"
     ]
    }
   ],
   "source": [
    "import optuna\n",
    "from sklearn.ensemble import GradientBoostingClassifier\n",
    "from sklearn.metrics import accuracy_score\n",
    "\n",
    "def objective(trial):\n",
    "    n_estimators = trial.suggest_int('n_estimators', 50, 300)\n",
    "    learning_rate = trial.suggest_float('learning_rate', 0.01, 0.2)\n",
    "    max_depth = trial.suggest_int('max_depth', 2, 10)\n",
    "\n",
    "    model = GradientBoostingClassifier(\n",
    "        n_estimators=n_estimators,\n",
    "        learning_rate=learning_rate,\n",
    "        max_depth=max_depth,\n",
    "        random_state=42\n",
    "    )\n",
    "\n",
    "    model.fit(X_train, y_train)\n",
    "\n",
    "    y_pred = model.predict(X_val)\n",
    "\n",
    "    return accuracy_score(y_val, y_pred)\n",
    "\n",
    "study = optuna.create_study(direction='maximize')\n",
    "study.optimize(objective, n_trials=15)\n",
    "\n",
    "print(\"Best parameters:\", study.best_params)\n"
   ]
  },
  {
   "cell_type": "code",
   "execution_count": 18,
   "metadata": {},
   "outputs": [
    {
     "name": "stdout",
     "output_type": "stream",
     "text": [
      "Classification report for Validation Set:\n",
      "               precision    recall  f1-score   support\n",
      "\n",
      "None_swarming       0.58      0.41      0.48      1800\n",
      "     Swarming       0.54      0.70      0.61      1800\n",
      "\n",
      "     accuracy                           0.56      3600\n",
      "    macro avg       0.56      0.56      0.55      3600\n",
      " weighted avg       0.56      0.56      0.55      3600\n",
      "\n",
      "Accuracy: 0.5552777777777778\n",
      "F1-Score: 0.5461331665574576\n",
      "\n",
      "Classification report for Test Set:\n",
      "               precision    recall  f1-score   support\n",
      "\n",
      "None_swarming       0.35      0.39      0.37      2400\n",
      "     Swarming       0.33      0.29      0.31      2441\n",
      "\n",
      "     accuracy                           0.34      4841\n",
      "    macro avg       0.34      0.34      0.34      4841\n",
      " weighted avg       0.34      0.34      0.34      4841\n",
      "\n",
      "Accuracy (Test): 0.3420780830406941\n",
      "F1-Score (Test): 0.3404897482860891\n"
     ]
    }
   ],
   "source": [
    "best_params = study.best_params\n",
    "\n",
    "best_model = GradientBoostingClassifier(\n",
    "    n_estimators=best_params['n_estimators'],\n",
    "    learning_rate=best_params['learning_rate'],\n",
    "    max_depth=best_params['max_depth'],\n",
    "    random_state=42\n",
    ")\n",
    "\n",
    "best_model.fit(X_train, y_train)\n",
    "\n",
    "y_pred = best_model.predict(X_val)\n",
    "\n",
    "accuracy = accuracy_score(y_val, y_pred)\n",
    "f1 = f1_score(y_val, y_pred, average='weighted')\n",
    "\n",
    "print(\"Classification report for Validation Set:\")\n",
    "print(classification_report(y_val, y_pred))\n",
    "print(f\"Accuracy: {accuracy}\")\n",
    "print(f\"F1-Score: {f1}\")\n",
    "\n",
    "y_test_pred = best_model.predict(X_test)\n",
    "\n",
    "accuracy_test = accuracy_score(y_test, y_test_pred)\n",
    "f1_test = f1_score(y_test, y_test_pred, average='weighted')\n",
    "\n",
    "print(\"\\nClassification report for Test Set:\")\n",
    "print(classification_report(y_test, y_test_pred))\n",
    "print(f\"Accuracy (Test): {accuracy_test}\")\n",
    "print(f\"F1-Score (Test): {f1_test}\")\n"
   ]
  }
 ],
 "metadata": {
  "kernelspec": {
   "display_name": "tf",
   "language": "python",
   "name": "python3"
  },
  "language_info": {
   "codemirror_mode": {
    "name": "ipython",
    "version": 3
   },
   "file_extension": ".py",
   "mimetype": "text/x-python",
   "name": "python",
   "nbconvert_exporter": "python",
   "pygments_lexer": "ipython3",
   "version": "3.9.21"
  }
 },
 "nbformat": 4,
 "nbformat_minor": 2
}
