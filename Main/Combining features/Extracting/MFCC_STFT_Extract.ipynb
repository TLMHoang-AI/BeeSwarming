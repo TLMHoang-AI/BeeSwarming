{
 "cells": [
  {
   "cell_type": "code",
   "execution_count": 2,
   "metadata": {},
   "outputs": [
    {
     "name": "stdout",
     "output_type": "stream",
     "text": [
      "Processing C:\\Users\\Admin\\Documents\\Python Project\\bee-swarming\\SB1\\buzz 1\\Test...\n"
     ]
    },
    {
     "name": "stderr",
     "output_type": "stream",
     "text": [
      "                                                                                                                                                                                                                              \r"
     ]
    },
    {
     "name": "stdout",
     "output_type": "stream",
     "text": [
      "Saved features for Test to C:\\Users\\Admin\\Documents\\Python Project\\bee-swarming\\STFT_MFCC\\STFT_MFCC_features_buzz1\\Test_features.pkl\n",
      "Processing C:\\Users\\Admin\\Documents\\Python Project\\bee-swarming\\SB1\\buzz 1\\Train...\n"
     ]
    },
    {
     "name": "stderr",
     "output_type": "stream",
     "text": [
      "                                                                                                                                                                                                                             \r"
     ]
    },
    {
     "name": "stdout",
     "output_type": "stream",
     "text": [
      "Saved features for Train to C:\\Users\\Admin\\Documents\\Python Project\\bee-swarming\\STFT_MFCC\\STFT_MFCC_features_buzz1\\Train_features.pkl\n",
      "Processing C:\\Users\\Admin\\Documents\\Python Project\\bee-swarming\\SB1\\buzz 1\\Val...\n"
     ]
    },
    {
     "name": "stderr",
     "output_type": "stream",
     "text": [
      "                                                                                                                                                                                                                           "
     ]
    },
    {
     "name": "stdout",
     "output_type": "stream",
     "text": [
      "Saved features for Val to C:\\Users\\Admin\\Documents\\Python Project\\bee-swarming\\STFT_MFCC\\STFT_MFCC_features_buzz1\\Val_features.pkl\n",
      "✅ Feature extraction completed!\n"
     ]
    },
    {
     "name": "stderr",
     "output_type": "stream",
     "text": [
      "\r"
     ]
    }
   ],
   "source": [
    "import librosa\n",
    "import numpy as np\n",
    "import os\n",
    "import pickle\n",
    "from tqdm import tqdm\n",
    "\n",
    "def extract_mfcc_stft(file_path, n_mfcc=60):\n",
    "    try:\n",
    "        y, sr = librosa.load(file_path, sr=16000)\n",
    "\n",
    "        # Apply pre-emphasis\n",
    "        pre_emphasis = 0.98\n",
    "        emphasized_signal = np.append(y[0], y[1:] - pre_emphasis * y[:-1])\n",
    "\n",
    "        # Compute MFCCs\n",
    "        mfccs = librosa.feature.mfcc(y=emphasized_signal, sr=sr, n_mfcc=n_mfcc, hop_length=512)\n",
    "        delta2_mfccs = librosa.feature.delta(mfccs, order=2)\n",
    "        \n",
    "        # Compute STFT with Hanning window\n",
    "        stft = np.abs(librosa.stft(emphasized_signal, n_fft=512, hop_length=512, window='hann'))\n",
    "        \n",
    "        # Compute statistics\n",
    "        mfcc_mean = mfccs.mean(axis=1)\n",
    "        delta2_mean = delta2_mfccs.mean(axis=1)\n",
    "        \n",
    "        stft_mean = stft.mean(axis=1)\n",
    "        stft_var = stft.var(axis=1)\n",
    "        stft_max = stft.max(axis=1)\n",
    "\n",
    "        return mfcc_mean, delta2_mean, stft_mean, stft_var, stft_max, None\n",
    "\n",
    "    except Exception as e:\n",
    "        return None, None, None, None, None, str(e)\n",
    "\n",
    "\n",
    "def extract_features_from_folder(root_folder):\n",
    "    all_data = []\n",
    "    errors = []\n",
    "\n",
    "    for dirpath, _, filenames in os.walk(root_folder):\n",
    "        for file in tqdm(filenames, desc=f\"Processing {dirpath}\", leave=False):\n",
    "            if file.endswith(('.wav', '.mp3')):\n",
    "                file_path = os.path.join(dirpath, file)\n",
    "                relative_path = os.path.relpath(file_path, root_folder)\n",
    "                parts = relative_path.split(os.sep)\n",
    "\n",
    "                category = parts[0] if len(parts) > 0 else \"Unknown\"\n",
    "                subcategory = parts[1] if len(parts) > 1 else \"Unknown\"\n",
    "\n",
    "                mfcc, delta2_mfcc, stft_mean, stft_var, stft_max, error = extract_mfcc_stft(file_path)\n",
    "                if mfcc is not None and delta2_mfcc is not None and stft_mean is not None:\n",
    "                    feature_row = {\n",
    "                        'file_name': file,\n",
    "                        'category': category,\n",
    "                        'subcategory': subcategory,\n",
    "                        'mfcc': mfcc,\n",
    "                        'mfcc_delta2': delta2_mfcc,\n",
    "                        'stft_mean': stft_mean,\n",
    "                        'stft_var': stft_var,\n",
    "                        'stft_max': stft_max\n",
    "                    }\n",
    "                    all_data.append(feature_row)\n",
    "                else:\n",
    "                    errors.append((file_path, error))\n",
    "\n",
    "    return all_data, errors\n",
    "\n",
    "def save_to_pickle(data, output_file):\n",
    "    with open(output_file, 'wb') as f:\n",
    "        pickle.dump(data, f)\n",
    "\n",
    "if __name__ == \"__main__\":\n",
    "    root_folder = r\"C:\\Users\\Admin\\Documents\\Python Project\\bee-swarming\\SB1\\buzz 1\"\n",
    "    output_folder = r\"C:\\Users\\Admin\\Documents\\Python Project\\bee-swarming\\STFT_MFCC\\STFT_MFCC_features_buzz1\"\n",
    "\n",
    "    os.makedirs(output_folder, exist_ok=True)\n",
    "\n",
    "    for subset in [\"Test\", \"Train\", \"Val\"]:\n",
    "        subset_path = os.path.join(root_folder, subset)\n",
    "        print(f\"Processing {subset_path}...\")\n",
    "\n",
    "        features_data, errors = extract_features_from_folder(subset_path)\n",
    "\n",
    "        output_file = os.path.join(output_folder, f\"{subset}_features.pkl\")\n",
    "        save_to_pickle(features_data, output_file)\n",
    "        print(f\"Saved features for {subset} to {output_file}\")\n",
    "\n",
    "        if errors:\n",
    "            error_log_file = os.path.join(output_folder, f\"{subset}_errors.log\")\n",
    "            with open(error_log_file, \"w\", encoding=\"utf-8\") as f:\n",
    "                for file_path, error in errors:\n",
    "                    f.write(f\"{file_path}: {error}\\n\")\n",
    "            print(f\"Logged errors for {subset} in {error_log_file}\")\n",
    "\n",
    "    print(\"✅ Feature extraction completed!\")\n"
   ]
  },
  {
   "cell_type": "code",
   "execution_count": null,
   "metadata": {},
   "outputs": [
    {
     "name": "stdout",
     "output_type": "stream",
     "text": [
      "Processing C:\\Users\\Admin\\Documents\\Python Project\\bee-swarming\\SB2\\buzz 2\\Test...\n"
     ]
    },
    {
     "name": "stderr",
     "output_type": "stream",
     "text": [
      "                                                                                                                                                                                                               \r"
     ]
    },
    {
     "name": "stdout",
     "output_type": "stream",
     "text": [
      "Saved features for Test to C:\\Users\\Admin\\Documents\\Python Project\\bee-swarming\\STFT_MFCC\\STFT_MFCC_features_buzz2\\Test_features.pkl\n",
      "Processing C:\\Users\\Admin\\Documents\\Python Project\\bee-swarming\\SB2\\buzz 2\\Train...\n"
     ]
    },
    {
     "name": "stderr",
     "output_type": "stream",
     "text": [
      "                                                                                                                                                                                                                 \r"
     ]
    },
    {
     "name": "stdout",
     "output_type": "stream",
     "text": [
      "Saved features for Train to C:\\Users\\Admin\\Documents\\Python Project\\bee-swarming\\STFT_MFCC\\STFT_MFCC_features_buzz2\\Train_features.pkl\n",
      "Processing C:\\Users\\Admin\\Documents\\Python Project\\bee-swarming\\SB2\\buzz 2\\Val...\n"
     ]
    },
    {
     "name": "stderr",
     "output_type": "stream",
     "text": [
      "                                                                                                                                                                                                                             "
     ]
    },
    {
     "name": "stdout",
     "output_type": "stream",
     "text": [
      "Saved features for Val to C:\\Users\\Admin\\Documents\\Python Project\\bee-swarming\\STFT_MFCC\\STFT_MFCC_features_buzz2\\Val_features.pkl\n",
      "✅ Feature extraction completed!\n"
     ]
    },
    {
     "name": "stderr",
     "output_type": "stream",
     "text": [
      "\r"
     ]
    }
   ],
   "source": [
    "import librosa\n",
    "import numpy as np\n",
    "import os\n",
    "import pickle\n",
    "from tqdm import tqdm\n",
    "\n",
    "def extract_mfcc_stft(file_path, n_mfcc=60):\n",
    "    try:\n",
    "        y, sr = librosa.load(file_path, sr=16000)\n",
    "\n",
    "        # Apply pre-emphasis\n",
    "        pre_emphasis = 0.98\n",
    "        emphasized_signal = np.append(y[0], y[1:] - pre_emphasis * y[:-1])\n",
    "\n",
    "        # Compute MFCCs\n",
    "        mfccs = librosa.feature.mfcc(y=emphasized_signal, sr=sr, n_mfcc=n_mfcc, hop_length=512)\n",
    "        delta2_mfccs = librosa.feature.delta(mfccs, order=2)\n",
    "        \n",
    "        # Compute STFT with Hanning window\n",
    "        stft = np.abs(librosa.stft(emphasized_signal, n_fft=512, hop_length=512, window='hann'))\n",
    "        \n",
    "        # Compute statistics\n",
    "        mfcc_mean = mfccs.mean(axis=1)\n",
    "        delta2_mean = delta2_mfccs.mean(axis=1)\n",
    "            \n",
    "        stft_mean = stft.mean(axis=1)\n",
    "        stft_var = stft.var(axis=1)\n",
    "        stft_max = stft.max(axis=1)\n",
    "\n",
    "        return mfcc_mean, delta2_mean, stft_mean, stft_var, stft_max, None\n",
    "\n",
    "    except Exception as e:\n",
    "        return None, None, None, None, None, str(e)\n",
    "\n",
    "\n",
    "def extract_features_from_folder(root_folder):\n",
    "    all_data = []\n",
    "    errors = []\n",
    "\n",
    "    for dirpath, _, filenames in os.walk(root_folder):\n",
    "        for file in tqdm(filenames, desc=f\"Processing {dirpath}\", leave=False):\n",
    "            if file.endswith(('.wav', '.mp3')):\n",
    "                file_path = os.path.join(dirpath, file)\n",
    "                relative_path = os.path.relpath(file_path, root_folder)\n",
    "                parts = relative_path.split(os.sep)\n",
    "\n",
    "                category = parts[0] if len(parts) > 0 else \"Unknown\"\n",
    "                subcategory = parts[1] if len(parts) > 1 else \"Unknown\"\n",
    "\n",
    "                mfcc, delta2_mfcc, stft_mean, stft_var, stft_max, error = extract_mfcc_stft(file_path)\n",
    "                if mfcc is not None and delta2_mfcc is not None and stft_mean is not None:\n",
    "                    feature_row = {\n",
    "                        'file_name': file,\n",
    "                        'category': category,\n",
    "                        'subcategory': subcategory,\n",
    "                        'mfcc': mfcc,\n",
    "                        'mfcc_delta2': delta2_mfcc,\n",
    "                        'stft_mean': stft_mean,\n",
    "                        'stft_var': stft_var,\n",
    "                        'stft_max': stft_max\n",
    "                    }\n",
    "                    all_data.append(feature_row)\n",
    "                else:\n",
    "                    errors.append((file_path, error))\n",
    "\n",
    "    return all_data, errors\n",
    "\n",
    "def save_to_pickle(data, output_file):\n",
    "    with open(output_file, 'wb') as f:\n",
    "        pickle.dump(data, f)\n",
    "\n",
    "if __name__ == \"__main__\":\n",
    "    root_folder = r\"C:\\Users\\Admin\\Documents\\Python Project\\bee-swarming\\SB2\\buzz 2\"\n",
    "    output_folder = r\"C:\\Users\\Admin\\Documents\\Python Project\\bee-swarming\\STFT_MFCC\\STFT_MFCC_features_buzz2\"\n",
    "\n",
    "    os.makedirs(output_folder, exist_ok=True)\n",
    "\n",
    "    for subset in [\"Test\", \"Train\", \"Val\"]:\n",
    "        subset_path = os.path.join(root_folder, subset)\n",
    "        print(f\"Processing {subset_path}...\")\n",
    "\n",
    "        features_data, errors = extract_features_from_folder(subset_path)\n",
    "\n",
    "        output_file = os.path.join(output_folder, f\"{subset}_features.pkl\")\n",
    "        save_to_pickle(features_data, output_file)\n",
    "        print(f\"Saved features for {subset} to {output_file}\")\n",
    "\n",
    "        if errors:\n",
    "            error_log_file = os.path.join(output_folder, f\"{subset}_errors.log\")\n",
    "            with open(error_log_file, \"w\", encoding=\"utf-8\") as f:\n",
    "                for file_path, error in errors:\n",
    "                    f.write(f\"{file_path}: {error}\\n\")\n",
    "            print(f\"Logged errors for {subset} in {error_log_file}\")\n",
    "\n",
    "    print(\"✅ Feature extraction completed!\")\n"
   ]
  }
 ],
 "metadata": {
  "kernelspec": {
   "display_name": "tf",
   "language": "python",
   "name": "python3"
  },
  "language_info": {
   "codemirror_mode": {
    "name": "ipython",
    "version": 3
   },
   "file_extension": ".py",
   "mimetype": "text/x-python",
   "name": "python",
   "nbconvert_exporter": "python",
   "pygments_lexer": "ipython3",
   "version": "3.9.21"
  }
 },
 "nbformat": 4,
 "nbformat_minor": 2
}
