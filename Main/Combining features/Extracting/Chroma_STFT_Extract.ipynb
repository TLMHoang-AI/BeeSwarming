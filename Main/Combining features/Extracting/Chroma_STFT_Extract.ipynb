{
 "cells": [
  {
   "cell_type": "code",
   "execution_count": 1,
   "metadata": {},
   "outputs": [
    {
     "name": "stdout",
     "output_type": "stream",
     "text": [
      "Processing C:\\Users\\Admin\\Documents\\Python Project\\bee-swarming\\SB1\\buzz 1\\Test...\n"
     ]
    },
    {
     "name": "stderr",
     "output_type": "stream",
     "text": [
      "Processing C:\\Users\\Admin\\Documents\\Python Project\\bee-swarming\\SB1\\buzz 1\\Test\\None_swarming\\1626712776797_Dan 02, 07cau, co chua, troi nang_190721:   8%|▊         | 61/800 [00:02<00:12, 58.83it/s]c:\\Users\\Admin\\anaconda3\\envs\\tf\\lib\\site-packages\\librosa\\core\\pitch.py:101: UserWarning: Trying to estimate tuning from empty frequency set.\n",
      "  return pitch_tuning(\n",
      "                                                                                                                                                                                                                              \r"
     ]
    },
    {
     "name": "stdout",
     "output_type": "stream",
     "text": [
      "Saved features for Test to C:\\Users\\Admin\\Documents\\Python Project\\bee-swarming\\STFT Chroma\\STFT_Chroma_features_buzz1\\Test_features.pkl\n",
      "Processing C:\\Users\\Admin\\Documents\\Python Project\\bee-swarming\\SB1\\buzz 1\\Train...\n"
     ]
    },
    {
     "name": "stderr",
     "output_type": "stream",
     "text": [
      "                                                                                                                                                                                                                             \r"
     ]
    },
    {
     "name": "stdout",
     "output_type": "stream",
     "text": [
      "Saved features for Train to C:\\Users\\Admin\\Documents\\Python Project\\bee-swarming\\STFT Chroma\\STFT_Chroma_features_buzz1\\Train_features.pkl\n",
      "Processing C:\\Users\\Admin\\Documents\\Python Project\\bee-swarming\\SB1\\buzz 1\\Val...\n"
     ]
    },
    {
     "name": "stderr",
     "output_type": "stream",
     "text": [
      "                                                                                                                                                                                                                           \r"
     ]
    },
    {
     "name": "stdout",
     "output_type": "stream",
     "text": [
      "Saved features for Val to C:\\Users\\Admin\\Documents\\Python Project\\bee-swarming\\STFT Chroma\\STFT_Chroma_features_buzz1\\Val_features.pkl\n"
     ]
    }
   ],
   "source": [
    "import os\n",
    "import pickle\n",
    "import librosa\n",
    "import numpy as np\n",
    "import scipy.signal\n",
    "from tqdm import tqdm\n",
    "\n",
    "def extract_features(file_path, frame_size=0.05, frame_stride=0.02, n_fft=512):\n",
    "    try:\n",
    "        y, sr = librosa.load(file_path, sr=None)\n",
    "\n",
    "        # Pre-emphasis filter\n",
    "        pre_emphasis = 0.97\n",
    "        emphasized_signal = np.append(y[0], y[1:] - pre_emphasis * y[:-1])\n",
    "\n",
    "        # STFT parameters\n",
    "        hop_length = int(frame_stride * sr)\n",
    "        frequencies, times, Zxx = scipy.signal.stft(emphasized_signal, fs=sr, nperseg=n_fft, noverlap=n_fft - hop_length, window=\"hann\")\n",
    "\n",
    "        # Magnitude Spectrogram (STFT)\n",
    "        magnitude_spectrogram = np.abs(Zxx)\n",
    "        log_magnitude_spectrogram = np.log(magnitude_spectrogram + 1e-10)\n",
    "\n",
    "        # Chroma Features\n",
    "        chroma = librosa.feature.chroma_stft(y=y, sr=sr, hop_length=hop_length, n_fft=n_fft)\n",
    "\n",
    "        # Chroma Delta (đạo hàm bậc 1)\n",
    "        chroma_delta = librosa.feature.delta(chroma)\n",
    "\n",
    "        return log_magnitude_spectrogram, chroma, chroma_delta, None\n",
    "\n",
    "    except Exception as e:\n",
    "        return None, None, None, str(e)\n",
    "\n",
    "def extract_features_from_folder(root_folder):\n",
    "    all_data = []\n",
    "    errors = []\n",
    "\n",
    "    for dirpath, _, filenames in os.walk(root_folder):\n",
    "        for file in tqdm(filenames, desc=f\"Processing {dirpath}\", leave=False):\n",
    "            if file.endswith(('.wav', '.mp3')):\n",
    "                file_path = os.path.join(dirpath, file)\n",
    "                relative_path = os.path.relpath(file_path, root_folder)\n",
    "                parts = relative_path.split(os.sep)\n",
    "\n",
    "                category = parts[0] if len(parts) > 0 else \"Unknown\"\n",
    "                subcategory = parts[1] if len(parts) > 1 else \"Unknown\"\n",
    "\n",
    "                stft, chroma, chroma_delta, error = extract_features(file_path)\n",
    "                if stft is not None and chroma is not None and chroma_delta is not None:\n",
    "                    feature_row = {\n",
    "                        'file_name': file,\n",
    "                        'category': category,\n",
    "                        'subcategory': subcategory,\n",
    "                        'stft': stft,\n",
    "                        'chroma': chroma,\n",
    "                        'chroma_delta': chroma_delta\n",
    "                    }\n",
    "                    all_data.append(feature_row)\n",
    "                else:\n",
    "                    errors.append((file_path, error))\n",
    "\n",
    "    return all_data, errors\n",
    "\n",
    "def save_to_pickle(data, output_file):\n",
    "    with open(output_file, 'wb') as f:\n",
    "        pickle.dump(data, f)\n",
    "\n",
    "if __name__ == \"__main__\":\n",
    "    root_folder = r\"C:\\Users\\Admin\\Documents\\Python Project\\bee-swarming\\SB1\\buzz 1\"\n",
    "    output_folder = r\"C:\\Users\\Admin\\Documents\\Python Project\\bee-swarming\\STFT Chroma\\STFT_Chroma_features_buzz1\"\n",
    "    \n",
    "    os.makedirs(output_folder, exist_ok=True)\n",
    "\n",
    "    for subset in [\"Test\", \"Train\", \"Val\"]:\n",
    "        subset_path = os.path.join(root_folder, subset)\n",
    "        print(f\"Processing {subset_path}...\")\n",
    "\n",
    "        features_data, errors = extract_features_from_folder(subset_path)\n",
    "\n",
    "        output_file = os.path.join(output_folder, f\"{subset}_features.pkl\")\n",
    "        save_to_pickle(features_data, output_file)\n",
    "        print(f\"Saved features for {subset} to {output_file}\")\n",
    "\n",
    "        if errors:\n",
    "            error_log_file = os.path.join(output_folder, f\"{subset}_errors.log\")\n",
    "            with open(error_log_file, \"w\", encoding=\"utf-8\") as f:\n",
    "                for file_path, error in errors:\n",
    "                    f.write(f\"{file_path}: {error}\\n\")\n",
    "            print(f\"Logged errors for {subset} in {error_log_file}\")\n"
   ]
  },
  {
   "cell_type": "code",
   "execution_count": 2,
   "metadata": {},
   "outputs": [
    {
     "name": "stdout",
     "output_type": "stream",
     "text": [
      "Processing C:\\Users\\Admin\\Documents\\Python Project\\bee-swarming\\SB2\\buzz 2\\Test...\n"
     ]
    },
    {
     "name": "stderr",
     "output_type": "stream",
     "text": [
      "                                                                                                                                                                                                               \r"
     ]
    },
    {
     "name": "stdout",
     "output_type": "stream",
     "text": [
      "Saved features for Test to C:\\Users\\Admin\\Documents\\Python Project\\bee-swarming\\STFT Chroma\\STFT_Chroma_features_buzz2\\Test_features.pkl\n",
      "Processing C:\\Users\\Admin\\Documents\\Python Project\\bee-swarming\\SB2\\buzz 2\\Train...\n"
     ]
    },
    {
     "name": "stderr",
     "output_type": "stream",
     "text": [
      "                                                                                                                                                                                                                 \r"
     ]
    },
    {
     "name": "stdout",
     "output_type": "stream",
     "text": [
      "Saved features for Train to C:\\Users\\Admin\\Documents\\Python Project\\bee-swarming\\STFT Chroma\\STFT_Chroma_features_buzz2\\Train_features.pkl\n",
      "Processing C:\\Users\\Admin\\Documents\\Python Project\\bee-swarming\\SB2\\buzz 2\\Val...\n"
     ]
    },
    {
     "name": "stderr",
     "output_type": "stream",
     "text": [
      "                                                                                                                                                                                                                            \r"
     ]
    },
    {
     "name": "stdout",
     "output_type": "stream",
     "text": [
      "Saved features for Val to C:\\Users\\Admin\\Documents\\Python Project\\bee-swarming\\STFT Chroma\\STFT_Chroma_features_buzz2\\Val_features.pkl\n"
     ]
    }
   ],
   "source": [
    "import os\n",
    "import pickle\n",
    "import librosa\n",
    "import numpy as np\n",
    "import scipy.signal\n",
    "from tqdm import tqdm\n",
    "\n",
    "def extract_features(file_path, frame_size=0.05, frame_stride=0.02, n_fft=512):\n",
    "    try:\n",
    "        y, sr = librosa.load(file_path, sr=None)\n",
    "\n",
    "        # Pre-emphasis filter\n",
    "        pre_emphasis = 0.97\n",
    "        emphasized_signal = np.append(y[0], y[1:] - pre_emphasis * y[:-1])\n",
    "\n",
    "        # STFT parameters\n",
    "        hop_length = int(frame_stride * sr)\n",
    "        frequencies, times, Zxx = scipy.signal.stft(emphasized_signal, fs=sr, nperseg=n_fft, noverlap=n_fft - hop_length, window=\"hann\")\n",
    "\n",
    "        # Magnitude Spectrogram (STFT)\n",
    "        magnitude_spectrogram = np.abs(Zxx)\n",
    "        log_magnitude_spectrogram = np.log(magnitude_spectrogram + 1e-10)\n",
    "\n",
    "        # Chroma Features\n",
    "        chroma = librosa.feature.chroma_stft(y=y, sr=sr, hop_length=hop_length, n_fft=n_fft)\n",
    "\n",
    "        # Delta (1st derivative) of Chroma\n",
    "        chroma_delta = librosa.feature.delta(chroma)\n",
    "\n",
    "        return log_magnitude_spectrogram, chroma, chroma_delta, None\n",
    "\n",
    "    except Exception as e:\n",
    "        return None, None, None, str(e)\n",
    "\n",
    "def extract_features_from_folder(root_folder):\n",
    "    all_data = []\n",
    "    errors = []\n",
    "\n",
    "    for dirpath, _, filenames in os.walk(root_folder):\n",
    "        for file in tqdm(filenames, desc=f\"Processing {dirpath}\", leave=False):\n",
    "            if file.endswith(('.wav', '.mp3')):\n",
    "                file_path = os.path.join(dirpath, file)\n",
    "                relative_path = os.path.relpath(file_path, root_folder)\n",
    "                parts = relative_path.split(os.sep)\n",
    "\n",
    "                category = parts[0] if len(parts) > 0 else \"Unknown\"\n",
    "                subcategory = parts[1] if len(parts) > 1 else \"Unknown\"\n",
    "\n",
    "                stft, chroma, chroma_delta, error = extract_features(file_path)\n",
    "                if stft is not None and chroma is not None and chroma_delta is not None:\n",
    "                    feature_row = {\n",
    "                        'file_name': file,\n",
    "                        'category': category,\n",
    "                        'subcategory': subcategory,\n",
    "                        'stft': stft,\n",
    "                        'chroma': chroma,\n",
    "                        'chroma_delta': chroma_delta\n",
    "                    }\n",
    "                    all_data.append(feature_row)\n",
    "                else:\n",
    "                    errors.append((file_path, error))\n",
    "\n",
    "    return all_data, errors\n",
    "\n",
    "def save_to_pickle(data, output_file):\n",
    "    with open(output_file, 'wb') as f:\n",
    "        pickle.dump(data, f)\n",
    "\n",
    "if __name__ == \"__main__\":\n",
    "    root_folder = r\"C:\\Users\\Admin\\Documents\\Python Project\\bee-swarming\\SB2\\buzz 2\"\n",
    "    output_folder = r\"C:\\Users\\Admin\\Documents\\Python Project\\bee-swarming\\STFT Chroma\\STFT_Chroma_features_buzz2\"\n",
    "    \n",
    "    os.makedirs(output_folder, exist_ok=True)\n",
    "\n",
    "    for subset in [\"Test\", \"Train\", \"Val\"]:\n",
    "        subset_path = os.path.join(root_folder, subset)\n",
    "        print(f\"Processing {subset_path}...\")\n",
    "\n",
    "        features_data, errors = extract_features_from_folder(subset_path)\n",
    "\n",
    "        output_file = os.path.join(output_folder, f\"{subset}_features.pkl\")\n",
    "        save_to_pickle(features_data, output_file)\n",
    "        print(f\"Saved features for {subset} to {output_file}\")\n",
    "\n",
    "        if errors:\n",
    "            error_log_file = os.path.join(output_folder, f\"{subset}_errors.log\")\n",
    "            with open(error_log_file, \"w\", encoding=\"utf-8\") as f:\n",
    "                for file_path, error in errors:\n",
    "                    f.write(f\"{file_path}: {error}\\n\")\n",
    "            print(f\"Logged errors for {subset} in {error_log_file}\")\n"
   ]
  },
  {
   "cell_type": "code",
   "execution_count": 3,
   "metadata": {},
   "outputs": [
    {
     "name": "stdout",
     "output_type": "stream",
     "text": [
      "File: 1626712776797_Dan 02, 07cau, co chua, troi nang_190721_0.wav\n",
      "Bit Depth: Signed 16 bit PCM\n"
     ]
    }
   ],
   "source": [
    "import soundfile as sf\n",
    "import os\n",
    "\n",
    "# Đường dẫn thư mục chứa âm thanh\n",
    "root_folder = r\"C:\\Users\\Admin\\Documents\\Python Project\\bee-swarming\\SB1\\buzz 1\\Test\\None_swarming\\1626712776797_Dan 02, 07cau, co chua, troi nang_190721\"\n",
    "\n",
    "# Lấy danh sách file âm thanh\n",
    "audio_files = [f for f in os.listdir(root_folder) if f.endswith(('.wav', '.flac'))]\n",
    "\n",
    "# Chọn file đầu tiên trong danh sách (hoặc chọn theo cách bạn muốn)\n",
    "if audio_files:\n",
    "    audio_path = os.path.join(root_folder, audio_files[0])\n",
    "    \n",
    "    # Đọc file âm thanh\n",
    "    with sf.SoundFile(audio_path) as f:\n",
    "        bit_depth = f.subtype_info\n",
    "        print(f\"File: {audio_files[0]}\")\n",
    "        print(f\"Bit Depth: {bit_depth}\")\n",
    "else:\n",
    "    print(\"Không tìm thấy file âm thanh trong thư mục.\")\n",
    "\n"
   ]
  }
 ],
 "metadata": {
  "kernelspec": {
   "display_name": "tf",
   "language": "python",
   "name": "python3"
  },
  "language_info": {
   "codemirror_mode": {
    "name": "ipython",
    "version": 3
   },
   "file_extension": ".py",
   "mimetype": "text/x-python",
   "name": "python",
   "nbconvert_exporter": "python",
   "pygments_lexer": "ipython3",
   "version": "3.9.21"
  }
 },
 "nbformat": 4,
 "nbformat_minor": 2
}
