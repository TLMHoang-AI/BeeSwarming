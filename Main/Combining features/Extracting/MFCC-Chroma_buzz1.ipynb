{
 "cells": [
  {
   "cell_type": "code",
   "execution_count": 1,
   "metadata": {},
   "outputs": [],
   "source": [
    "import pandas as pd\n",
    "import numpy as np\n",
    "\n",
    "import pickle"
   ]
  },
  {
   "cell_type": "markdown",
   "metadata": {},
   "source": [
    "### prep chroma"
   ]
  },
  {
   "cell_type": "code",
   "execution_count": 2,
   "metadata": {},
   "outputs": [],
   "source": [
    "train_df_chroma = r\"D:\\Workplace\\.SPRING2025\\AIL303m\\Bee_Swarming\\chroma_features_buzz1\\Train_chroma_features.pkl\"\n",
    "val_df_chroma = r\"D:\\Workplace\\.SPRING2025\\AIL303m\\Bee_Swarming\\chroma_features_buzz1\\Val_chroma_features.pkl\"\n",
    "test_df_chroma = r\"D:\\Workplace\\.SPRING2025\\AIL303m\\Bee_Swarming\\chroma_features_buzz1\\Test_chroma_features.pkl\"\n",
    "\n",
    "with open(train_df_chroma, \"rb\") as f:\n",
    "    train_chroma = pickle.load(f)\n",
    "\n",
    "with open(val_df_chroma, \"rb\") as f:\n",
    "    val_chroma = pickle.load(f)\n",
    "\n",
    "with open(test_df_chroma, \"rb\") as f:\n",
    "    test_chroma = pickle.load(f)"
   ]
  },
  {
   "cell_type": "code",
   "execution_count": 3,
   "metadata": {},
   "outputs": [
    {
     "name": "stdout",
     "output_type": "stream",
     "text": [
      "<class 'list'>\n",
      "12600\n",
      "dict_keys(['file_name', 'category', 'subcategory', 'chroma'])\n"
     ]
    }
   ],
   "source": [
    "print(type(train_chroma))\n",
    "print(len(train_chroma))\n",
    "print(train_chroma[0].keys())"
   ]
  },
  {
   "cell_type": "code",
   "execution_count": 4,
   "metadata": {},
   "outputs": [
    {
     "name": "stdout",
     "output_type": "stream",
     "text": [
      "X_train_chroma shape: (12600, 12)\n",
      "y_train shape: (12600,)\n",
      "X_val_chroma shape: (3600, 12)\n",
      "X_test_chroma shape: (4841, 12)\n"
     ]
    }
   ],
   "source": [
    "import numpy as np\n",
    "\n",
    "def preprocess_chroma(chroma_data):\n",
    "    X = []\n",
    "    y = []\n",
    "    \n",
    "    for item in chroma_data:\n",
    "        chroma_features = np.mean(item['chroma'], axis=1)\n",
    "        label = item['category']\n",
    "        \n",
    "        X.append(chroma_features)\n",
    "        y.append(label)\n",
    "    \n",
    "    return np.array(X), np.array(y)\n",
    "\n",
    "X_train_chroma, y_train_chroma = preprocess_chroma(train_chroma)\n",
    "X_val_chroma, y_val_chroma = preprocess_chroma(val_chroma)\n",
    "X_test_chroma, y_test_chroma = preprocess_chroma(test_chroma)\n",
    "\n",
    "# Kiểm tra kích thước dữ liệu\n",
    "print(\"X_train_chroma shape:\", X_train_chroma.shape)\n",
    "print(\"y_train shape:\", y_train_chroma.shape)  \n",
    "print(\"X_val_chroma shape:\", X_val_chroma.shape)  \n",
    "print(\"X_test_chroma shape:\", X_test_chroma.shape)  \n"
   ]
  },
  {
   "cell_type": "code",
   "execution_count": 5,
   "metadata": {},
   "outputs": [],
   "source": [
    "from sklearn.preprocessing import StandardScaler\n",
    "\n",
    "scaler = StandardScaler()\n",
    "X_train_chroma = scaler.fit_transform(X_train_chroma)\n",
    "X_val_chroma = scaler.transform(X_val_chroma)\n",
    "X_test_chroma = scaler.transform(X_test_chroma)\n"
   ]
  },
  {
   "cell_type": "markdown",
   "metadata": {},
   "source": [
    "### prep MFCC"
   ]
  },
  {
   "cell_type": "code",
   "execution_count": 6,
   "metadata": {},
   "outputs": [],
   "source": [
    "train_mfcc = pd.read_csv(\"D:\\Workplace\\.SPRING2025\\AIL303m\\Bee_Swarming\\mfcc_features_buzz1\\Train_mfcc_features.csv\")\n",
    "val_mfcc = pd.read_csv(\"D:\\Workplace\\.SPRING2025\\AIL303m\\Bee_Swarming\\mfcc_features_buzz1\\Val_mfcc_features.csv\")\n",
    "test_mfcc = pd.read_csv(\"D:\\Workplace\\.SPRING2025\\AIL303m\\Bee_Swarming\\mfcc_features_buzz1\\Test_mfcc_features.csv\")"
   ]
  },
  {
   "cell_type": "code",
   "execution_count": 7,
   "metadata": {},
   "outputs": [],
   "source": [
    "train_mfcc = train_mfcc.drop(columns=['file_name'])\n",
    "test_mfcc = test_mfcc.drop(columns=['file_name'])\n",
    "val_mfcc = val_mfcc.drop(columns=['file_name'])"
   ]
  },
  {
   "cell_type": "code",
   "execution_count": 8,
   "metadata": {},
   "outputs": [],
   "source": [
    "X_train_mfcc, y_train_mfcc = train_mfcc.drop(columns=['label']), train_mfcc['label']\n",
    "X_test_mfcc, y_test_mfcc = test_mfcc.drop(columns=['label']), test_mfcc['label']\n",
    "X_val_mfcc, y_val_mfcc = val_mfcc.drop(columns=['label']), val_mfcc['label']"
   ]
  },
  {
   "cell_type": "code",
   "execution_count": 9,
   "metadata": {},
   "outputs": [
    {
     "name": "stdout",
     "output_type": "stream",
     "text": [
      "Train shape: (12600, 120), Test shape: (4841, 120), Val shape: (3600, 120)\n"
     ]
    }
   ],
   "source": [
    "print(f\"Train shape: {X_train_mfcc.shape}, Test shape: {X_test_mfcc.shape}, Val shape: {X_val_mfcc.shape}\")"
   ]
  },
  {
   "cell_type": "code",
   "execution_count": 10,
   "metadata": {},
   "outputs": [
    {
     "name": "stdout",
     "output_type": "stream",
     "text": [
      "MFCC Train shape: (12600, 120), Chroma Train shape: (12600, 12)\n",
      "MFCC Val shape: (3600, 120), Chroma Val shape: (3600, 12)\n",
      "MFCC Test shape: (4841, 120), Chroma Test shape: (4841, 12)\n"
     ]
    }
   ],
   "source": [
    "print(f\"MFCC Train shape: {X_train_mfcc.shape}, Chroma Train shape: {X_train_chroma.shape}\")\n",
    "print(f\"MFCC Val shape: {X_val_mfcc.shape}, Chroma Val shape: {X_val_chroma.shape}\")\n",
    "print(f\"MFCC Test shape: {X_test_mfcc.shape}, Chroma Test shape: {X_test_chroma.shape}\")\n"
   ]
  },
  {
   "cell_type": "markdown",
   "metadata": {},
   "source": [
    "### merge feature"
   ]
  },
  {
   "cell_type": "code",
   "execution_count": 11,
   "metadata": {},
   "outputs": [
    {
     "name": "stdout",
     "output_type": "stream",
     "text": [
      "Combined Train shape: (12600, 132)\n",
      "Combined Val shape: (3600, 132)\n",
      "Combined Test shape: (4841, 132)\n"
     ]
    }
   ],
   "source": [
    "X_train_chroma_df = pd.DataFrame(X_train_chroma, index=X_train_mfcc.index)\n",
    "X_val_chroma_df = pd.DataFrame(X_val_chroma, index=X_val_mfcc.index)\n",
    "X_test_chroma_df = pd.DataFrame(X_test_chroma, index=X_test_mfcc.index)\n",
    "\n",
    "X_train_combined = pd.concat([X_train_mfcc, X_train_chroma_df], axis=1)\n",
    "X_val_combined = pd.concat([X_val_mfcc, X_val_chroma_df], axis=1)\n",
    "X_test_combined = pd.concat([X_test_mfcc, X_test_chroma_df], axis=1)\n",
    "\n",
    "print(f\"Combined Train shape: {X_train_combined.shape}\")\n",
    "print(f\"Combined Val shape: {X_val_combined.shape}\")\n",
    "print(f\"Combined Test shape: {X_test_combined.shape}\")"
   ]
  },
  {
   "cell_type": "code",
   "execution_count": 12,
   "metadata": {},
   "outputs": [
    {
     "name": "stdout",
     "output_type": "stream",
     "text": [
      "X_train_mfcc.shape: (12600, 120), X_train_chroma.shape: (12600, 12)\n",
      "X_val_mfcc.shape: (3600, 120), X_val_chroma.shape: (3600, 12)\n",
      "X_test_mfcc.shape: (4841, 120), X_test_chroma.shape: (4841, 12)\n"
     ]
    }
   ],
   "source": [
    "print(f\"X_train_mfcc.shape: {X_train_mfcc.shape}, X_train_chroma.shape: {X_train_chroma.shape}\")\n",
    "print(f\"X_val_mfcc.shape: {X_val_mfcc.shape}, X_val_chroma.shape: {X_val_chroma.shape}\")\n",
    "print(f\"X_test_mfcc.shape: {X_test_mfcc.shape}, X_test_chroma.shape: {X_test_chroma.shape}\")\n"
   ]
  },
  {
   "cell_type": "code",
   "execution_count": 13,
   "metadata": {},
   "outputs": [
    {
     "name": "stdout",
     "output_type": "stream",
     "text": [
      "Train chroma samples: 12600\n",
      "Val chroma samples: 3600\n",
      "Test chroma samples: 4841\n"
     ]
    }
   ],
   "source": [
    "print(f\"Train chroma samples: {len(train_chroma)}\")\n",
    "print(f\"Val chroma samples: {len(val_chroma)}\")\n",
    "print(f\"Test chroma samples: {len(test_chroma)}\")"
   ]
  },
  {
   "cell_type": "code",
   "execution_count": null,
   "metadata": {},
   "outputs": [],
   "source": [
    "X_train_combined.columns = X_train_combined.columns.astype(str)\n",
    "\n",
    "# Giảm chiều bằng t-SNE\n",
    "from sklearn.manifold import TSNE\n",
    "import matplotlib.pyplot as plt\n",
    "\n",
    "tsne = TSNE(n_components=2, random_state=42)\n",
    "X_train_combined_tsne = tsne.fit_transform(X_train_combined)\n",
    "\n",
    "plt.figure(figsize=(8, 6))\n",
    "plt.scatter(X_train_combined_tsne[:, 0], X_train_combined_tsne[:, 1], c=y_train_mfcc, cmap='viridis', alpha=0.7)\n",
    "plt.colorbar()\n",
    "plt.title(\"Visualization using t-SNE\")\n",
    "plt.show()\n"
   ]
  },
  {
   "cell_type": "markdown",
   "metadata": {},
   "source": [
    "### chuan hoa label"
   ]
  },
  {
   "cell_type": "code",
   "execution_count": 15,
   "metadata": {},
   "outputs": [
    {
     "name": "stdout",
     "output_type": "stream",
     "text": [
      "Unique Labels in Chroma (converted): [0 1]\n"
     ]
    }
   ],
   "source": [
    "# Chuyển đổi nhãn của Chroma từ chuỗi sang số\n",
    "label_mapping = {'None_swarming': 0, 'Swarming': 1}\n",
    "y_train_chroma = np.array([label_mapping[label] for label in y_train_chroma])\n",
    "y_val_chroma = np.array([label_mapping[label] for label in y_val_chroma])\n",
    "y_test_chroma = np.array([label_mapping[label] for label in y_test_chroma])\n",
    "\n",
    "# Kiểm tra lại\n",
    "print(f\"Unique Labels in Chroma (converted): {np.unique(y_train_chroma)}\")\n"
   ]
  },
  {
   "cell_type": "code",
   "execution_count": 16,
   "metadata": {},
   "outputs": [],
   "source": [
    "from sklearn.preprocessing import StandardScaler\n",
    "from sklearn.neighbors import KNeighborsClassifier\n",
    "from sklearn.svm import SVC\n",
    "from sklearn.naive_bayes import GaussianNB\n",
    "from sklearn.ensemble import RandomForestClassifier\n",
    "from sklearn.metrics import accuracy_score, f1_score, classification_report\n",
    "from sklearn.preprocessing import StandardScaler\n",
    "import os\n",
    "from sklearn.decomposition import PCA\n",
    "from sklearn.model_selection import GridSearchCV"
   ]
  },
  {
   "cell_type": "markdown",
   "metadata": {},
   "source": [
    "### KNN"
   ]
  },
  {
   "cell_type": "code",
   "execution_count": 17,
   "metadata": {},
   "outputs": [],
   "source": [
    "X_train_combined.columns = X_train_combined.columns.astype(str)\n",
    "X_val_combined.columns = X_val_combined.columns.astype(str)\n",
    "X_test_combined.columns = X_test_combined.columns.astype(str)"
   ]
  },
  {
   "cell_type": "code",
   "execution_count": 18,
   "metadata": {},
   "outputs": [],
   "source": [
    "scaler = StandardScaler()\n",
    "X_train_scaled = scaler.fit_transform(X_train_combined)\n",
    "X_val_scaled = scaler.transform(X_val_combined)\n",
    "X_test_scaled = scaler.transform(X_test_combined)"
   ]
  },
  {
   "cell_type": "code",
   "execution_count": 19,
   "metadata": {},
   "outputs": [
    {
     "name": "stdout",
     "output_type": "stream",
     "text": [
      "Fitting 5 folds for each of 392 candidates, totalling 1960 fits\n",
      "Best Parameters: {'algorithm': 'auto', 'n_neighbors': 77, 'weights': 'uniform'}\n",
      "Best Cross-Validation Accuracy: 0.9997\n"
     ]
    }
   ],
   "source": [
    "param_grid = {\n",
    "    'n_neighbors': list(range(3, 100, 2)),\n",
    "    'weights': ['uniform', 'distance'],\n",
    "    'algorithm': ['auto', 'ball_tree', 'kd_tree', 'brute']\n",
    "}\n",
    "\n",
    "knn = KNeighborsClassifier()\n",
    "\n",
    "grid_search = GridSearchCV(\n",
    "    estimator=knn, param_grid=param_grid, \n",
    "    cv=5, scoring='accuracy', n_jobs=-1, verbose=1\n",
    ")\n",
    "\n",
    "grid_search.fit(X_val_combined, y_val_mfcc)\n",
    "\n",
    "best_params = grid_search.best_params_\n",
    "best_score = grid_search.best_score_\n",
    "\n",
    "print(f\"Best Parameters: {best_params}\")\n",
    "print(f\"Best Cross-Validation Accuracy: {best_score:.4f}\")"
   ]
  },
  {
   "cell_type": "code",
   "execution_count": 20,
   "metadata": {},
   "outputs": [
    {
     "name": "stdout",
     "output_type": "stream",
     "text": [
      "\n",
      "Test Set Results:\n",
      "Accuracy: 0.4987\n",
      "F1 Score: 0.5704\n",
      "Classification Report: {'0': {'precision': 0.49173300673606857, 'recall': 0.33458333333333334, 'f1-score': 0.39821472848995787, 'support': 2400.0}, '1': {'precision': 0.5021820448877805, 'recall': 0.659975419909873, 'f1-score': 0.5703664365374402, 'support': 2441.0}, 'accuracy': 0.49865730221028715, 'macro avg': {'precision': 0.49695752581192454, 'recall': 0.49727937662160315, 'f1-score': 0.48429058251369905, 'support': 4841.0}, 'weighted avg': {'precision': 0.49700177395943745, 'recall': 0.49865730221028715, 'f1-score': 0.48501958685473884, 'support': 4841.0}}\n",
      "\n",
      "Validation Set Results:\n",
      "Accuracy: 0.4931\n",
      "F1 Score: 0.3657\n",
      "Classification Report: {'0': {'precision': 0.4950455806579469, 'recall': 0.6938888888888889, 'f1-score': 0.5778394633356465, 'support': 1800.0}, '1': {'precision': 0.4883936861652739, 'recall': 0.2922222222222222, 'f1-score': 0.3656586722280153, 'support': 1800.0}, 'accuracy': 0.4930555555555556, 'macro avg': {'precision': 0.4917196334116104, 'recall': 0.4930555555555556, 'f1-score': 0.4717490677818309, 'support': 3600.0}, 'weighted avg': {'precision': 0.4917196334116104, 'recall': 0.4930555555555556, 'f1-score': 0.4717490677818309, 'support': 3600.0}}\n"
     ]
    }
   ],
   "source": [
    "best_knn = KNeighborsClassifier(\n",
    "    n_neighbors=best_params['n_neighbors'], \n",
    "    weights=best_params['weights'], \n",
    "    algorithm=best_params['algorithm']\n",
    ")\n",
    "\n",
    "best_knn.fit(X_train_combined, y_train_mfcc)\n",
    "\n",
    "y_pred_test = best_knn.predict(X_test_combined)\n",
    "y_pred_val = best_knn.predict(X_val_combined)\n",
    "\n",
    "def evaluate_model(y_true, y_pred):\n",
    "    return {\n",
    "        \"accuracy\": accuracy_score(y_true, y_pred),\n",
    "        \"f1_score\": f1_score(y_true, y_pred),\n",
    "        \"classification_report\": classification_report(y_true, y_pred, output_dict=True)\n",
    "    }\n",
    "\n",
    "test_results = evaluate_model(y_test_mfcc, y_pred_test)\n",
    "val_results = evaluate_model(y_val_mfcc, y_pred_val)\n",
    "\n",
    "print(\"\\nTest Set Results:\")\n",
    "print(f\"Accuracy: {test_results['accuracy']:.4f}\")\n",
    "print(f\"F1 Score: {test_results['f1_score']:.4f}\")\n",
    "print(\"Classification Report:\", test_results[\"classification_report\"])\n",
    "\n",
    "print(\"\\nValidation Set Results:\")\n",
    "print(f\"Accuracy: {val_results['accuracy']:.4f}\")\n",
    "print(f\"F1 Score: {val_results['f1_score']:.4f}\")\n",
    "print(\"Classification Report:\", val_results[\"classification_report\"])"
   ]
  },
  {
   "cell_type": "markdown",
   "metadata": {},
   "source": [
    "### SVM"
   ]
  },
  {
   "cell_type": "code",
   "execution_count": 21,
   "metadata": {},
   "outputs": [
    {
     "name": "stdout",
     "output_type": "stream",
     "text": [
      "Best C found: 1\n"
     ]
    }
   ],
   "source": [
    "param_grid = {'C': [0.001, 0.01, 0.1, 1, 10, 100]}\n",
    "\n",
    "scaler = StandardScaler()\n",
    "X_Val_Scaled = scaler.fit_transform(X_val_combined)\n",
    "\n",
    "svm = SVC(kernel='rbf')\n",
    "grid_search = GridSearchCV(svm, param_grid, cv=5, scoring='accuracy', n_jobs=-1)\n",
    "grid_search.fit(X_Val_Scaled, y_val_mfcc)\n",
    "\n",
    "best_C = grid_search.best_params_['C']\n",
    "print(f\"Best C found: {best_C}\")"
   ]
  },
  {
   "cell_type": "code",
   "execution_count": 22,
   "metadata": {},
   "outputs": [
    {
     "name": "stdout",
     "output_type": "stream",
     "text": [
      "Test Set (comX_train_combined MFCC) Performance:\n",
      "   Accuracy: 0.6701\n",
      "   F1 Score: 0.7535\n",
      "\n",
      "Classification Report:\n",
      "               precision    recall  f1-score   support\n",
      "\n",
      "           0       1.00      0.33      0.50      2400\n",
      "           1       0.60      1.00      0.75      2441\n",
      "\n",
      "    accuracy                           0.67      4841\n",
      "   macro avg       0.80      0.67      0.63      4841\n",
      "weighted avg       0.80      0.67      0.63      4841\n",
      "\n",
      "Validation Set (comX_train_combined MFCC) Performance:\n",
      "   Accuracy: 0.8164\n",
      "   F1 Score: 0.8449\n",
      "\n",
      "Classification Report:\n",
      "               precision    recall  f1-score   support\n",
      "\n",
      "           0       1.00      0.63      0.78      1800\n",
      "           1       0.73      1.00      0.84      1800\n",
      "\n",
      "    accuracy                           0.82      3600\n",
      "   macro avg       0.87      0.82      0.81      3600\n",
      "weighted avg       0.87      0.82      0.81      3600\n",
      "\n"
     ]
    }
   ],
   "source": [
    "svm = SVC(kernel='rbf', C=1, shrinking=False)\n",
    "svm.fit(X_train_combined, y_train_mfcc)\n",
    "\n",
    "y_pred_test = svm.predict(X_test_combined)\n",
    "y_pred_val = svm.predict(X_val_combined)\n",
    "\n",
    "def evaluate_model(y_true, y_pred, dataset_name):\n",
    "    accuracy = accuracy_score(y_true, y_pred)\n",
    "    f1 = f1_score(y_true, y_pred)\n",
    "    report = classification_report(y_true, y_pred)\n",
    "\n",
    "    print(f\"{dataset_name} Performance:\")\n",
    "    print(f\"   Accuracy: {accuracy:.4f}\")\n",
    "    print(f\"   F1 Score: {f1:.4f}\\n\")\n",
    "    print(\"Classification Report:\\n\", report)\n",
    "\n",
    "    return {\"accuracy\": accuracy, \"f1_score\": f1, \"report\": report}\n",
    "\n",
    "test_results = evaluate_model(y_test_mfcc, y_pred_test, \"Test Set (comX_train_combined MFCC)\")\n",
    "val_results = evaluate_model(y_val_chroma, y_pred_val, \"Validation Set (comX_train_combined MFCC)\")"
   ]
  },
  {
   "cell_type": "markdown",
   "metadata": {},
   "source": [
    "### NB"
   ]
  },
  {
   "cell_type": "code",
   "execution_count": 23,
   "metadata": {},
   "outputs": [
    {
     "name": "stdout",
     "output_type": "stream",
     "text": [
      "\n",
      "Evaluating Naïve Bayes on Raw MFCC Features:\n",
      "\n",
      "NB Raw (Test) Model Performance:\n",
      "   Accuracy: 0.9211\n",
      "   F1 Score: 0.9261\n",
      "\n",
      "NB Raw (Validation) Model Performance:\n",
      "   Accuracy: 0.9486\n",
      "   F1 Score: 0.9500\n"
     ]
    }
   ],
   "source": [
    "nb_raw = GaussianNB()\n",
    "\n",
    "nb_raw.fit(X_train_combined, y_train_mfcc)\n",
    "\n",
    "y_test_pred_raw = nb_raw.predict(X_test_combined)\n",
    "y_val_pred_raw = nb_raw.predict(X_val_combined)\n",
    "\n",
    "def evaluate_model(y_true, y_pred, model_type):\n",
    "    accuracy = accuracy_score(y_true, y_pred)\n",
    "    f1 = f1_score(y_true, y_pred)\n",
    "    print(f\"\\n{model_type} Model Performance:\")\n",
    "    print(f\"   Accuracy: {accuracy:.4f}\")\n",
    "    print(f\"   F1 Score: {f1:.4f}\")\n",
    "    return accuracy, f1\n",
    "\n",
    "print(\"\\nEvaluating Naïve Bayes on Raw MFCC Features:\")\n",
    "test_results_raw = evaluate_model(y_test_mfcc, y_test_pred_raw, \"NB Raw (Test)\")\n",
    "val_results_raw = evaluate_model(y_val_mfcc, y_val_pred_raw, \"NB Raw (Validation)\")"
   ]
  },
  {
   "cell_type": "markdown",
   "metadata": {},
   "source": [
    "### RF"
   ]
  },
  {
   "cell_type": "code",
   "execution_count": 24,
   "metadata": {},
   "outputs": [
    {
     "name": "stdout",
     "output_type": "stream",
     "text": [
      "Số lượng feature sử dụng: 132\n",
      "\n",
      "Best Parameters: {'max_depth': 10, 'min_samples_leaf': 5, 'min_samples_split': 5, 'n_estimators': 100}\n",
      "\n",
      "rf Full Features (Test) Model Performance:\n",
      "   Accuracy: 0.9866\n",
      "   F1 Score: 0.9867\n",
      "\n",
      "rf Full Features (Validation) Model Performance:\n",
      "   Accuracy: 0.8972\n",
      "   F1 Score: 0.8882\n"
     ]
    },
    {
     "data": {
      "text/plain": [
       "(0.8972222222222223, 0.8882175226586103)"
      ]
     },
     "execution_count": 24,
     "metadata": {},
     "output_type": "execute_result"
    }
   ],
   "source": [
    "from sklearn.ensemble import RandomForestClassifier\n",
    "from sklearn.model_selection import GridSearchCV\n",
    "from sklearn.preprocessing import StandardScaler\n",
    "import numpy as np\n",
    "\n",
    "# Chỉ giữ lại các cột dạng số\n",
    "X_train_combined = X_train_combined.select_dtypes(include=[np.number])\n",
    "X_test_combined = X_test_combined.select_dtypes(include=[np.number])\n",
    "X_val_combined = X_val_combined.select_dtypes(include=[np.number])\n",
    "\n",
    "# Chuyển đổi tên cột về dạng string nếu có cột dạng int\n",
    "X_train_combined.columns = X_train_combined.columns.astype(str)\n",
    "X_test_combined.columns = X_test_combined.columns.astype(str)\n",
    "X_val_combined.columns = X_val_combined.columns.astype(str)\n",
    "\n",
    "# Chuẩn hóa dữ liệu toàn bộ feature\n",
    "scaler = StandardScaler()\n",
    "X_train_scaled = scaler.fit_transform(X_train_combined)\n",
    "X_test_scaled = scaler.transform(X_test_combined)\n",
    "X_val_scaled = scaler.transform(X_val_combined)\n",
    "\n",
    "print(f\"Số lượng feature sử dụng: {X_train_scaled.shape[1]}\")\n",
    "\n",
    "# Đảm bảo y_train_mfcc và y_val_mfcc ở dạng mảng 1D\n",
    "y_train_mfcc = np.ravel(y_train_mfcc)\n",
    "y_val_mfcc = np.ravel(y_val_mfcc)\n",
    "\n",
    "# Grid Search để tìm tham số tối ưu\n",
    "param_grid = {\n",
    "    'n_estimators': [50, 100, 150],\n",
    "    'max_depth': [10, 15, 20],  \n",
    "    'min_samples_split': [5, 10],  \n",
    "    'min_samples_leaf': [2, 5]  \n",
    "}\n",
    "\n",
    "grid_search = GridSearchCV(RandomForestClassifier(random_state=42, bootstrap=True), param_grid, cv=5, scoring='accuracy', n_jobs=-1)\n",
    "grid_search.fit(X_val_scaled, y_val_mfcc)\n",
    "\n",
    "\n",
    "best_params = grid_search.best_params_\n",
    "print(\"\\nBest Parameters:\", best_params)\n",
    "\n",
    "# Huấn luyện lại mô hình với tham số tối ưu\n",
    "rf_final = RandomForestClassifier(**best_params, random_state=42)\n",
    "rf_final.fit(X_train_scaled, y_train_mfcc)\n",
    "\n",
    "# Dự đoán và đánh giá\n",
    "y_test_pred = rf_final.predict(X_test_scaled)\n",
    "y_val_pred = rf_final.predict(X_val_scaled)\n",
    "\n",
    "evaluate_model(y_test_mfcc, y_test_pred, \"rf Full Features (Test)\")\n",
    "evaluate_model(y_val_mfcc, y_val_pred, \"rf Full Features (Validation)\")"
   ]
  },
  {
   "cell_type": "code",
   "execution_count": 25,
   "metadata": {},
   "outputs": [],
   "source": [
    "rf_initial = RandomForestClassifier(n_estimators=100, random_state=42)\n",
    "rf_initial.fit(X_train_combined, y_train_mfcc)\n",
    "\n",
    "# Lấy độ quan trọng của từng feature\n",
    "feature_importances = rf_initial.feature_importances_\n",
    "\n",
    "# Chọn các feature có importance\n",
    "threshold = np.mean(feature_importances)\n",
    "important_features = np.where(feature_importances > threshold)[0]\n",
    "\n",
    "# Lọc tập dữ liệu theo các feature quan trọng\n",
    "X_train_selected = X_train_combined.iloc[:, important_features]\n",
    "X_test_selected = X_test_combined.iloc[:, important_features]\n",
    "X_val_selected = X_val_combined.iloc[:, important_features]"
   ]
  },
  {
   "cell_type": "code",
   "execution_count": 26,
   "metadata": {},
   "outputs": [
    {
     "name": "stdout",
     "output_type": "stream",
     "text": [
      "Best n_estimators: 85\n"
     ]
    }
   ],
   "source": [
    "param_grid = {'n_estimators': list(range(25, 201, 5))}\n",
    "rf = RandomForestClassifier()\n",
    "grid_search = GridSearchCV(rf, param_grid, cv=5, scoring='accuracy', n_jobs=-1)\n",
    "grid_search.fit(X_train_selected, y_train_mfcc)\n",
    "\n",
    "best_params = grid_search.best_params_\n",
    "print(\"Best n_estimators:\", best_params['n_estimators'])\n"
   ]
  },
  {
   "cell_type": "code",
   "execution_count": 27,
   "metadata": {},
   "outputs": [
    {
     "name": "stdout",
     "output_type": "stream",
     "text": [
      "\n",
      "Số lượng feature trước khi giảm chiều: 132\n",
      "Số lượng feature sau khi giảm chiều: 24\n"
     ]
    }
   ],
   "source": [
    "# Hiển thị số feature trước và sau khi giảm chiều\n",
    "num_features_before = X_train_combined.shape[1]\n",
    "num_features_after = X_train_selected.shape[1]\n",
    "\n",
    "print(f\"\\nSố lượng feature trước khi giảm chiều: {num_features_before}\")\n",
    "print(f\"Số lượng feature sau khi giảm chiều: {num_features_after}\")"
   ]
  },
  {
   "cell_type": "code",
   "execution_count": 28,
   "metadata": {},
   "outputs": [
    {
     "name": "stdout",
     "output_type": "stream",
     "text": [
      "\n",
      "Evaluating Model after Feature Selection:\n",
      "\n",
      "rf Selected (Test) Model Performance:\n",
      "Accuracy: 0.9529\n",
      "F1 Score: 0.9550\n",
      "Classification Report:\n",
      "              precision    recall  f1-score   support\n",
      "\n",
      "           0       0.99      0.91      0.95      2400\n",
      "           1       0.92      0.99      0.95      2441\n",
      "\n",
      "    accuracy                           0.95      4841\n",
      "   macro avg       0.96      0.95      0.95      4841\n",
      "weighted avg       0.96      0.95      0.95      4841\n",
      "\n",
      "\n",
      "rf Selected (Validation) Model Performance:\n",
      "Accuracy: 0.9053\n",
      "F1 Score: 0.8971\n",
      "Classification Report:\n",
      "              precision    recall  f1-score   support\n",
      "\n",
      "           0       0.85      0.98      0.91      1800\n",
      "           1       0.98      0.83      0.90      1800\n",
      "\n",
      "    accuracy                           0.91      3600\n",
      "   macro avg       0.92      0.91      0.90      3600\n",
      "weighted avg       0.92      0.91      0.90      3600\n",
      "\n"
     ]
    }
   ],
   "source": [
    "rf_selected = RandomForestClassifier(n_estimators=best_params['n_estimators'], random_state=42)\n",
    "rf_selected.fit(X_train_selected, y_train_mfcc)\n",
    "\n",
    "# Dự đoán trên tập test và validation\n",
    "y_test_pred_selected = rf_selected.predict(X_test_selected)\n",
    "y_val_pred_selected = rf_selected.predict(X_val_selected)\n",
    "\n",
    "# Hàm đánh giá mô hình\n",
    "def evaluate_model(y_true, y_pred, model_type):\n",
    "    accuracy = accuracy_score(y_true, y_pred)\n",
    "    f1 = f1_score(y_true, y_pred)\n",
    "    print(f\"\\n{model_type} Model Performance:\")\n",
    "    print(f\"Accuracy: {accuracy:.4f}\")\n",
    "    print(f\"F1 Score: {f1:.4f}\")\n",
    "    print(f\"Classification Report:\\n{classification_report(y_true, y_pred)}\")\n",
    "    return accuracy, f1\n",
    "\n",
    "print(\"\\nEvaluating Model after Feature Selection:\")\n",
    "selected_test_results = evaluate_model(y_test_mfcc, y_test_pred_selected, \"rf Selected (Test)\")\n",
    "selected_val_results = evaluate_model(y_val_mfcc, y_val_pred_selected, \"rf Selected (Validation)\")\n"
   ]
  },
  {
   "cell_type": "code",
   "execution_count": 29,
   "metadata": {},
   "outputs": [
    {
     "name": "stdout",
     "output_type": "stream",
     "text": [
      "   Method  Final Features  PCA Components  Test Accuracy  Validation Accuracy\n",
      "0    mean              94              70       0.988019             0.909444\n",
      "1  median             121              54       0.989878             0.911111\n",
      "2     std              89              72       0.992150             0.921667\n"
     ]
    }
   ],
   "source": [
    "import pandas as pd\n",
    "from sklearn.decomposition import PCA\n",
    "from sklearn.ensemble import RandomForestClassifier\n",
    "from sklearn.model_selection import GridSearchCV\n",
    "from sklearn.preprocessing import StandardScaler\n",
    "import numpy as np\n",
    "\n",
    "# Kết hợp tập Train và Validation để tính threshold\n",
    "feature_importances_train = RandomForestClassifier(n_estimators=100, random_state=42).fit(X_train_combined, y_train_mfcc).feature_importances_\n",
    "feature_importances_val = RandomForestClassifier(n_estimators=100, random_state=42).fit(X_val_combined, y_val_mfcc).feature_importances_\n",
    "\n",
    "# Tính toán các ngưỡng threshold khác nhau\n",
    "threshold_mean = np.mean(np.hstack([feature_importances_train, feature_importances_val]))\n",
    "threshold_median = np.median(np.hstack([feature_importances_train, feature_importances_val]))\n",
    "threshold_std = np.std(np.hstack([feature_importances_train, feature_importances_val]))\n",
    "\n",
    "thresholds = {'mean': threshold_mean, 'median': threshold_median, 'std': threshold_std}\n",
    "results = []\n",
    "\n",
    "for method, threshold in thresholds.items():\n",
    "    # Chọn các feature quan trọng dựa trên threshold\n",
    "    important_features_idx = np.where(feature_importances_train >= threshold)[0]\n",
    "    less_important_features_idx = np.where(feature_importances_train < threshold)[0]\n",
    "    \n",
    "    X_train_selected = X_train_combined.iloc[:, important_features_idx]\n",
    "    X_test_selected = X_test_combined.iloc[:, important_features_idx]\n",
    "    X_val_selected = X_val_combined.iloc[:, important_features_idx]\n",
    "    \n",
    "    # PCA trên các feature ít quan trọng\n",
    "    scaler = StandardScaler()\n",
    "    X_train_pca_input = scaler.fit_transform(X_train_combined.iloc[:, less_important_features_idx])\n",
    "    X_test_pca_input = scaler.transform(X_test_combined.iloc[:, less_important_features_idx])\n",
    "    X_val_pca_input = scaler.transform(X_val_combined.iloc[:, less_important_features_idx])\n",
    "    \n",
    "    # Chọn số component tối ưu dựa trên phương sai tích lũy\n",
    "    pca = PCA().fit(X_train_pca_input)\n",
    "    explained_variance = np.cumsum(pca.explained_variance_ratio_)\n",
    "    n_pca_components = np.argmax(explained_variance >= 0.95) + 1  # 95% phương sai\n",
    "    \n",
    "    X_train_pca = pca.transform(X_train_pca_input)[:, :n_pca_components]\n",
    "    X_test_pca = pca.transform(X_test_pca_input)[:, :n_pca_components]\n",
    "    X_val_pca = pca.transform(X_val_pca_input)[:, :n_pca_components]\n",
    "    \n",
    "    # Ghép dữ liệu lại\n",
    "    X_train_final = np.hstack((X_train_selected, X_train_pca))\n",
    "    X_test_final = np.hstack((X_test_selected, X_test_pca))\n",
    "    X_val_final = np.hstack((X_val_selected, X_val_pca))\n",
    "    \n",
    "    # GridSearch với RandomForest\n",
    "    param_grid = {\n",
    "        'n_estimators': [50, 100, 150],\n",
    "        'max_depth': [10, 15, 20],  \n",
    "        'min_samples_split': [5, 10],  \n",
    "        'min_samples_leaf': [2, 5]  \n",
    "    }\n",
    "\n",
    "    grid_search = GridSearchCV(RandomForestClassifier(random_state=42, bootstrap=True), param_grid, cv=5, scoring='accuracy', n_jobs=-1)\n",
    "    grid_search.fit(X_val_scaled, y_val_mfcc)\n",
    "    \n",
    "    best_params = grid_search.best_params_\n",
    "    rf_final = RandomForestClassifier(**best_params, random_state=42)\n",
    "    rf_final.fit(X_train_final, y_train_mfcc)\n",
    "    \n",
    "    y_test_pred = rf_final.predict(X_test_final)\n",
    "    y_val_pred = rf_final.predict(X_val_final)\n",
    "    \n",
    "    test_acc = np.mean(y_test_pred == y_test_mfcc)\n",
    "    val_acc = np.mean(y_val_pred == y_val_mfcc)\n",
    "    \n",
    "    results.append([method, X_train_final.shape[1], n_pca_components, test_acc, val_acc])\n",
    "\n",
    "# Xuất kết quả ra file\n",
    "results_df = pd.DataFrame(results, columns=['Method', 'Final Features', 'PCA Components', 'Test Accuracy', 'Validation Accuracy'])\n",
    "results_df.to_csv(\"feature_selection_comparison.csv\", index=False)\n",
    "print(results_df)\n"
   ]
  },
  {
   "cell_type": "code",
   "execution_count": 30,
   "metadata": {},
   "outputs": [
    {
     "data": {
      "text/plain": [
       "<Figure size 1200x600 with 0 Axes>"
      ]
     },
     "metadata": {},
     "output_type": "display_data"
    },
    {
     "data": {
      "image/png": "[encoded data removed]",
      "text/plain": [
       "<Figure size 1500x500 with 1 Axes>"
      ]
     },
     "metadata": {},
     "output_type": "display_data"
    },
    {
     "name": "stdout",
     "output_type": "stream",
     "text": [
      "         Train_MI    Val_MI   Test_MI\n",
      "mfcc_0   0.678667  0.343099  0.534915\n",
      "mfcc_1   0.668390  0.583818  0.612591\n",
      "mfcc_20  0.585792  0.125603  0.338114\n",
      "mfcc_12  0.558274  0.318908  0.387220\n",
      "mfcc_22  0.489689  0.243297  0.386485\n",
      "mfcc_2   0.472233  0.359743  0.572690\n",
      "mfcc_3   0.461893  0.334915  0.193488\n",
      "mfcc_8   0.460837  0.589584  0.594433\n",
      "mfcc_7   0.458413  0.406809  0.041655\n",
      "mfcc_6   0.410660  0.255069  0.280137\n"
     ]
    }
   ],
   "source": [
    "import pandas as pd\n",
    "from sklearn.feature_selection import mutual_info_classif\n",
    "import matplotlib.pyplot as plt\n",
    "\n",
    "# Định nghĩa hàm tính Mutual Information\n",
    "def compute_mi(df, feature_cols, label_col):\n",
    "    X = df[feature_cols].values\n",
    "    y = df[label_col].values\n",
    "    mi_scores = mutual_info_classif(X, y, discrete_features=False)\n",
    "    return pd.Series(mi_scores, index=feature_cols)\n",
    "\n",
    "# Load dữ liệu MFCC\n",
    "train_mfcc = pd.read_csv(\"D:/Workplace/.SPRING2025/AIL303m/Bee_Swarming/mfcc_features_buzz1/Train_mfcc_features.csv\")\n",
    "val_mfcc = pd.read_csv(\"D:/Workplace/.SPRING2025/AIL303m/Bee_Swarming/mfcc_features_buzz1/Val_mfcc_features.csv\")\n",
    "test_mfcc = pd.read_csv(\"D:/Workplace/.SPRING2025/AIL303m/Bee_Swarming/mfcc_features_buzz1/Test_mfcc_features.csv\")\n",
    "\n",
    "# Load dữ liệu Chroma\n",
    "train_chroma = pd.read_pickle(\"D:/Workplace/.SPRING2025/AIL303m/Bee_Swarming/chroma_features_buzz1/Train_chroma_features.pkl\")\n",
    "val_chroma = pd.read_pickle(\"D:/Workplace/.SPRING2025/AIL303m/Bee_Swarming/chroma_features_buzz1/Val_chroma_features.pkl\")\n",
    "test_chroma = pd.read_pickle(\"D:/Workplace/.SPRING2025/AIL303m/Bee_Swarming/chroma_features_buzz1/Test_chroma_features.pkl\")\n",
    "\n",
    "# Chuyển đổi Chroma thành DataFrame\n",
    "train_chroma_df = pd.DataFrame({\n",
    "    \"file_name\": [item['file_name'] for item in train_chroma],\n",
    "    \"label\": [item['category'] for item in train_chroma],\n",
    "    **{f'chroma_{i}': [item['chroma'][i].mean() for item in train_chroma] for i in range(12)}\n",
    "})\n",
    "val_chroma_df = pd.DataFrame({\n",
    "    \"file_name\": [item['file_name'] for item in val_chroma],\n",
    "    \"label\": [item['category'] for item in val_chroma],\n",
    "    **{f'chroma_{i}': [item['chroma'][i].mean() for item in val_chroma] for i in range(12)}\n",
    "})\n",
    "test_chroma_df = pd.DataFrame({\n",
    "    \"file_name\": [item['file_name'] for item in test_chroma],\n",
    "    \"label\": [item['category'] for item in test_chroma],\n",
    "    **{f'chroma_{i}': [item['chroma'][i].mean() for item in test_chroma] for i in range(12)}\n",
    "})\n",
    "\n",
    "# Chuyển đổi label của Chroma để khớp với MFCC\n",
    "label_mapping = {\"None_swarming\": 0, \"Swarming\": 1}\n",
    "train_chroma_df[\"label\"] = train_chroma_df[\"label\"].map(label_mapping)\n",
    "val_chroma_df[\"label\"] = val_chroma_df[\"label\"].map(label_mapping)\n",
    "test_chroma_df[\"label\"] = test_chroma_df[\"label\"].map(label_mapping)\n",
    "\n",
    "# Gộp features từ MFCC và Chroma\n",
    "def merge_features(mfcc_df, chroma_df):\n",
    "    return mfcc_df.merge(chroma_df.drop(columns=[\"label\"]), on=\"file_name\")\n",
    "\n",
    "train_combined = merge_features(train_mfcc, train_chroma_df)\n",
    "val_combined = merge_features(val_mfcc, val_chroma_df)\n",
    "test_combined = merge_features(test_mfcc, test_chroma_df)\n",
    "\n",
    "# Xác định danh sách feature columns\n",
    "feature_cols = [col for col in train_combined.columns if col.startswith(\"mfcc_\") or col.startswith(\"chroma_\")]\n",
    "label_col = \"label\"\n",
    "\n",
    "# Tính MI cho từng tập dữ liệu\n",
    "mi_train = compute_mi(train_combined, feature_cols, label_col)\n",
    "mi_val = compute_mi(val_combined, feature_cols, label_col)\n",
    "mi_test = compute_mi(test_combined, feature_cols, label_col)\n",
    "\n",
    "# Tạo DataFrame để so sánh\n",
    "mi_comparison = pd.DataFrame({\n",
    "    \"Train_MI\": mi_train,\n",
    "    \"Val_MI\": mi_val,\n",
    "    \"Test_MI\": mi_test\n",
    "}).sort_values(by=\"Train_MI\", ascending=False)\n",
    "\n",
    "# Vẽ biểu đồ so sánh Mutual Information giữa các tập\n",
    "plt.figure(figsize=(12, 6))\n",
    "mi_comparison.plot(kind=\"bar\", figsize=(15,5))\n",
    "plt.title(\"Mutual Information của từng feature trên Train, Validation, Test\")\n",
    "plt.xlabel(\"MFCC + Chroma Features\")\n",
    "plt.ylabel(\"Mutual Information\")\n",
    "plt.show()\n",
    "\n",
    "# Hiển thị 10 feature quan trọng nhất theo MI của Train\n",
    "print(mi_comparison.head(10))"
   ]
  },
  {
   "cell_type": "markdown",
   "metadata": {},
   "source": [
    "### Ensemble models"
   ]
  },
  {
   "cell_type": "markdown",
   "metadata": {},
   "source": [
    "##### Soft Voting"
   ]
  },
  {
   "cell_type": "code",
   "execution_count": 31,
   "metadata": {},
   "outputs": [
    {
     "name": "stdout",
     "output_type": "stream",
     "text": [
      "\n",
      "Đánh giá Soft Voting trên tập validation:\n",
      "              precision    recall  f1-score   support\n",
      "\n",
      "           0       1.00      0.94      0.97      1800\n",
      "           1       0.94      1.00      0.97      1800\n",
      "\n",
      "    accuracy                           0.97      3600\n",
      "   macro avg       0.97      0.97      0.97      3600\n",
      "weighted avg       0.97      0.97      0.97      3600\n",
      "\n",
      "\n",
      "Đánh giá Soft Voting trên tập test:\n",
      "              precision    recall  f1-score   support\n",
      "\n",
      "           0       0.99      0.98      0.98      2400\n",
      "           1       0.98      0.99      0.98      2441\n",
      "\n",
      "    accuracy                           0.98      4841\n",
      "   macro avg       0.98      0.98      0.98      4841\n",
      "weighted avg       0.98      0.98      0.98      4841\n",
      "\n",
      "Accuracy trên tập validation: 0.9667\n",
      "Accuracy trên tập test: 0.9843\n"
     ]
    }
   ],
   "source": [
    "from sklearn.ensemble import VotingClassifier, RandomForestClassifier, GradientBoostingClassifier\n",
    "from sklearn.svm import SVC\n",
    "from sklearn.neighbors import KNeighborsClassifier\n",
    "from sklearn.ensemble import ExtraTreesClassifier\n",
    "\n",
    "best_models = [\n",
    "    (\"NB\", GaussianNB()),\n",
    "    (\"Random Forest\", RandomForestClassifier(\n",
    "        n_estimators=70, criterion=\"entropy\", max_depth=None, min_samples_split=2, random_state=42\n",
    "    )),\n",
    "    (\"Extra Trees\", ExtraTreesClassifier(\n",
    "        criterion=\"gini\", max_depth=None, min_samples_split=2, n_estimators=30, random_state=42\n",
    "    ))\n",
    "]\n",
    "\n",
    "soft_voting_clf = VotingClassifier(estimators=best_models, voting='soft', n_jobs=-1)\n",
    "soft_voting_clf.fit(X_train_final, y_train_chroma)\n",
    "\n",
    "# Dự đoán\n",
    "y_val_pred = soft_voting_clf.predict(X_val_final)\n",
    "y_test_pred = soft_voting_clf.predict(X_test_final)\n",
    "\n",
    "# Đánh giá\n",
    "val_acc = accuracy_score((y_val_mfcc), y_val_pred)\n",
    "test_acc = accuracy_score(y_test_mfcc, y_test_pred)\n",
    "\n",
    "print(\"\\nĐánh giá Soft Voting trên tập validation:\")\n",
    "print(classification_report(y_val_mfcc, y_val_pred))\n",
    "\n",
    "print(\"\\nĐánh giá Soft Voting trên tập test:\")\n",
    "print(classification_report(y_test_mfcc, y_test_pred))\n",
    "\n",
    "print(f\"Accuracy trên tập validation: {val_acc:.4f}\")\n",
    "print(f\"Accuracy trên tập test: {test_acc:.4f}\")"
   ]
  },
  {
   "cell_type": "markdown",
   "metadata": {},
   "source": [
    "##### Hard Voting"
   ]
  },
  {
   "cell_type": "code",
   "execution_count": 32,
   "metadata": {},
   "outputs": [
    {
     "name": "stdout",
     "output_type": "stream",
     "text": [
      "\n",
      "Đánh giá Soft Voting trên tập validation:\n",
      "              precision    recall  f1-score   support\n",
      "\n",
      "           0       0.95      0.99      0.97      1800\n",
      "           1       0.99      0.94      0.96      1800\n",
      "\n",
      "    accuracy                           0.97      3600\n",
      "   macro avg       0.97      0.97      0.97      3600\n",
      "weighted avg       0.97      0.97      0.97      3600\n",
      "\n",
      "\n",
      "Đánh giá Soft Voting trên tập test:\n",
      "              precision    recall  f1-score   support\n",
      "\n",
      "           0       1.00      1.00      1.00      2400\n",
      "           1       1.00      1.00      1.00      2441\n",
      "\n",
      "    accuracy                           1.00      4841\n",
      "   macro avg       1.00      1.00      1.00      4841\n",
      "weighted avg       1.00      1.00      1.00      4841\n",
      "\n",
      "Accuracy trên tập validation: 0.9656\n",
      "Accuracy trên tập test: 0.9975\n"
     ]
    }
   ],
   "source": [
    "from sklearn.ensemble import VotingClassifier, RandomForestClassifier, GradientBoostingClassifier\n",
    "from sklearn.svm import SVC\n",
    "from sklearn.neighbors import KNeighborsClassifier\n",
    "from sklearn.ensemble import ExtraTreesClassifier\n",
    "\n",
    "best_models = [\n",
    "    (\"NB\", GaussianNB()),\n",
    "    (\"Random Forest\", RandomForestClassifier(\n",
    "        n_estimators=70, criterion=\"entropy\", max_depth=None, min_samples_split=2, random_state=42\n",
    "    )),\n",
    "    (\"Extra Trees\", ExtraTreesClassifier(\n",
    "        criterion=\"gini\", max_depth=None, min_samples_split=6, n_estimators=30, random_state=42\n",
    "    ))\n",
    "]\n",
    "\n",
    "soft_voting_clf = VotingClassifier(estimators=best_models, voting='hard', n_jobs=-1)\n",
    "soft_voting_clf.fit(X_train_final, y_train_mfcc)\n",
    "\n",
    "# Dự đoán\n",
    "y_val_pred = soft_voting_clf.predict(X_val_final)\n",
    "y_test_pred = soft_voting_clf.predict(X_test_final)\n",
    "\n",
    "# Đánh giá\n",
    "val_acc = accuracy_score(y_val_mfcc, y_val_pred)\n",
    "test_acc = accuracy_score(y_test_mfcc, y_test_pred)\n",
    "\n",
    "print(\"\\nĐánh giá Soft Voting trên tập validation:\")\n",
    "print(classification_report(y_val_mfcc, y_val_pred))\n",
    "\n",
    "print(\"\\nĐánh giá Soft Voting trên tập test:\")\n",
    "print(classification_report(y_test_mfcc, y_test_pred))\n",
    "\n",
    "print(f\"Accuracy trên tập validation: {val_acc:.4f}\")\n",
    "print(f\"Accuracy trên tập test: {test_acc:.4f}\")"
   ]
  },
  {
   "cell_type": "markdown",
   "metadata": {},
   "source": [
    "##### Weighted Voting"
   ]
  },
  {
   "cell_type": "code",
   "execution_count": 33,
   "metadata": {},
   "outputs": [
    {
     "name": "stdout",
     "output_type": "stream",
     "text": [
      "Weights according to validation: [0.9283333333333333, 0.9486111111111111]\n",
      "Accuracy on validation: 0.9400\n",
      "              precision    recall  f1-score   support\n",
      "\n",
      "           0       1.00      0.88      0.94      1800\n",
      "           1       0.89      1.00      0.94      1800\n",
      "\n",
      "    accuracy                           0.94      3600\n",
      "   macro avg       0.95      0.94      0.94      3600\n",
      "weighted avg       0.95      0.94      0.94      3600\n",
      "\n",
      "Accuracy on test: 0.9190\n",
      "              precision    recall  f1-score   support\n",
      "\n",
      "           0       0.99      0.85      0.91      2400\n",
      "           1       0.87      0.99      0.93      2441\n",
      "\n",
      "    accuracy                           0.92      4841\n",
      "   macro avg       0.93      0.92      0.92      4841\n",
      "weighted avg       0.93      0.92      0.92      4841\n",
      "\n"
     ]
    }
   ],
   "source": [
    "from sklearn.metrics import accuracy_score, classification_report\n",
    "from sklearn.ensemble import VotingClassifier, RandomForestClassifier, GradientBoostingClassifier\n",
    "from sklearn.svm import SVC\n",
    "from sklearn.neighbors import KNeighborsClassifier\n",
    "from sklearn.ensemble import ExtraTreesClassifier\n",
    "\n",
    "best_models = [\n",
    "    (\"NB\", GaussianNB()),\n",
    "    (\"Random Forest\", RandomForestClassifier(\n",
    "        n_estimators=70, criterion=\"entropy\", max_depth=None, min_samples_split=2, random_state=42\n",
    "    ))\n",
    "]\n",
    "\n",
    "\n",
    "weights = []\n",
    "for name, model in best_models:\n",
    "    model.fit(X_train_final, y_train_mfcc)\n",
    "    y_val_pred = model.predict(X_val_final)\n",
    "    acc = accuracy_score(y_val_mfcc, y_val_pred)\n",
    "    weights.append(acc)\n",
    "    \n",
    "print(\"Weights according to validation:\", weights)\n",
    "\n",
    "soft_voting_clf = VotingClassifier(estimators=best_models, voting='soft', weights=weights, n_jobs=-1)\n",
    "\n",
    "soft_voting_clf.fit(X_train_final, y_train_mfcc)\n",
    "\n",
    "y_val_pred = soft_voting_clf.predict(X_val_final)\n",
    "y_test_pred = soft_voting_clf.predict(X_test_final)\n",
    "\n",
    "val_acc = accuracy_score(y_val_mfcc, y_val_pred)\n",
    "test_acc = accuracy_score(y_test_mfcc, y_test_pred)\n",
    "\n",
    "print(f\"Accuracy on validation: {val_acc:.4f}\")\n",
    "print(classification_report(y_val_mfcc, y_val_pred))\n",
    "\n",
    "print(f\"Accuracy on test: {test_acc:.4f}\")\n",
    "print(classification_report(y_test_mfcc, y_test_pred))"
   ]
  },
  {
   "cell_type": "markdown",
   "metadata": {},
   "source": [
    "##### Stacking"
   ]
  },
  {
   "cell_type": "code",
   "execution_count": 34,
   "metadata": {},
   "outputs": [
    {
     "name": "stdout",
     "output_type": "stream",
     "text": [
      "\n",
      "Đánh giá Stacking trên tập validation:\n",
      "              precision    recall  f1-score   support\n",
      "\n",
      "           0       1.00      0.87      0.93      1800\n",
      "           1       0.89      1.00      0.94      1800\n",
      "\n",
      "    accuracy                           0.94      3600\n",
      "   macro avg       0.94      0.94      0.94      3600\n",
      "weighted avg       0.94      0.94      0.94      3600\n",
      "\n",
      "Accuracy trên tập validation: 0.9364\n",
      "\n",
      "Đánh giá Stacking trên tập test:\n",
      "              precision    recall  f1-score   support\n",
      "\n",
      "           0       0.99      0.85      0.91      2400\n",
      "           1       0.87      0.99      0.92      2441\n",
      "\n",
      "    accuracy                           0.92      4841\n",
      "   macro avg       0.93      0.92      0.92      4841\n",
      "weighted avg       0.93      0.92      0.92      4841\n",
      "\n",
      "Accuracy trên tập test: 0.9188\n"
     ]
    }
   ],
   "source": [
    "from sklearn.ensemble import StackingClassifier\n",
    "from sklearn.ensemble import RandomForestClassifier, GradientBoostingClassifier\n",
    "from sklearn.neighbors import KNeighborsClassifier\n",
    "from sklearn.linear_model import LogisticRegression\n",
    "from sklearn.metrics import accuracy_score, classification_report\n",
    "\n",
    "# Tạo các mô hình base\n",
    "base_models = [\n",
    "    (\"NB\", GaussianNB()),\n",
    "    (\"Random Forest\", RandomForestClassifier(\n",
    "        n_estimators=70, criterion=\"entropy\", max_depth=None, min_samples_split=2, random_state=42\n",
    "    ))\n",
    "]\n",
    "\n",
    "# Meta model - dùng Logistic Regression (thay vì Linear Regression vì bài toán phân loại)\n",
    "meta_model = LogisticRegression(random_state=42)\n",
    "\n",
    "# Tạo Stacking Classifier\n",
    "stacking_clf = StackingClassifier(estimators=base_models, final_estimator=meta_model, cv=5, n_jobs=-1)\n",
    "\n",
    "# Huấn luyện mô hình\n",
    "stacking_clf.fit(X_train_final, y_train_mfcc)\n",
    "\n",
    "# Dự đoán\n",
    "y_val_pred = stacking_clf.predict(X_val_final)\n",
    "y_test_pred = stacking_clf.predict(X_test_final)\n",
    "\n",
    "# Đánh giá mô hình\n",
    "val_acc = accuracy_score(y_val_mfcc, y_val_pred)\n",
    "test_acc = accuracy_score(y_test_mfcc, y_test_pred)\n",
    "\n",
    "print(\"\\nĐánh giá Stacking trên tập validation:\")\n",
    "print(classification_report(y_val_mfcc, y_val_pred))\n",
    "print(f\"Accuracy trên tập validation: {val_acc:.4f}\")\n",
    "\n",
    "print(\"\\nĐánh giá Stacking trên tập test:\")\n",
    "print(classification_report(y_test_mfcc, y_test_pred))\n",
    "print(f\"Accuracy trên tập test: {test_acc:.4f}\")\n"
   ]
  },
  {
   "cell_type": "code",
   "execution_count": 35,
   "metadata": {},
   "outputs": [
    {
     "name": "stdout",
     "output_type": "stream",
     "text": [
      "Fitting 5 folds for each of 567 candidates, totalling 2835 fits\n"
     ]
    },
    {
     "name": "stderr",
     "output_type": "stream",
     "text": [
      "C:\\Users\\ADMIN\\AppData\\Local\\Packages\\PythonSoftwareFoundation.Python.3.10_qbz5n2kfra8p0\\LocalCache\\local-packages\\Python310\\site-packages\\numpy\\ma\\core.py:2820: RuntimeWarning: invalid value encountered in cast\n",
      "  _data = np.array(data, dtype=dtype, copy=copy,\n"
     ]
    },
    {
     "name": "stdout",
     "output_type": "stream",
     "text": [
      "🔍 Best parameters: {'criterion': 'gini', 'max_depth': 10, 'min_samples_split': 6, 'n_estimators': 30}\n",
      "\n",
      "📊 Đánh giá trên tập validation:\n",
      "              precision    recall  f1-score   support\n",
      "\n",
      "           0       0.89      0.99      0.94      1800\n",
      "           1       0.99      0.88      0.93      1800\n",
      "\n",
      "    accuracy                           0.94      3600\n",
      "   macro avg       0.94      0.94      0.94      3600\n",
      "weighted avg       0.94      0.94      0.94      3600\n",
      "\n",
      "\n",
      "📊 Đánh giá trên tập test:\n",
      "              precision    recall  f1-score   support\n",
      "\n",
      "           0       0.99      0.99      0.99      2400\n",
      "           1       0.99      0.99      0.99      2441\n",
      "\n",
      "    accuracy                           0.99      4841\n",
      "   macro avg       0.99      0.99      0.99      4841\n",
      "weighted avg       0.99      0.99      0.99      4841\n",
      "\n",
      "\n",
      "✅ Accuracy trên tập validation: 0.9369\n",
      "✅ Accuracy trên tập test: 0.9917\n"
     ]
    }
   ],
   "source": [
    "from sklearn.ensemble import ExtraTreesClassifier\n",
    "from sklearn.metrics import accuracy_score, classification_report\n",
    "\n",
    "# Định nghĩa tập tham số cần tìm kiếm\n",
    "param_grid = {\n",
    "    'criterion' :['gini', 'entropy', 'log_loss'],\n",
    "    'n_estimators': [30, 40, 50, 60, 100, 150, 200],\n",
    "    'max_depth': [ 10, 20, 30],\n",
    "    'min_samples_split': [2, 3, 4, 5, 6, 7, 8, 9, 10]\n",
    "}\n",
    "\n",
    "# Khởi tạo mô hình Random Forest\n",
    "rf_model = ExtraTreesClassifier(random_state=42)\n",
    "\n",
    "# Khởi tạo GridSearchCV với 5-fold cross-validation\n",
    "grid_search = GridSearchCV(\n",
    "    rf_model, param_grid, cv=5, scoring='accuracy', n_jobs=-1, verbose=1\n",
    ")\n",
    "\n",
    "# Chạy Grid Search trên tập huấn luyện\n",
    "grid_search.fit(X_train_final, y_train_mfcc)\n",
    "\n",
    "# Lấy tham số tốt nhất\n",
    "best_params = grid_search.best_params_\n",
    "print(f\"🔍 Best parameters: {best_params}\")\n",
    "\n",
    "# Huấn luyện mô hình với tham số tối ưu\n",
    "best_model = ExtraTreesClassifier(**best_params, random_state=42)\n",
    "best_model.fit(X_train_final, y_train_mfcc)\n",
    "\n",
    "# Dự đoán trên tập validation và test\n",
    "y_val_pred = best_model.predict(X_val_final)\n",
    "y_test_pred = best_model.predict(X_test_final)\n",
    "\n",
    "# Đánh giá mô hình trên tập validation\n",
    "print(\"\\n📊 Đánh giá trên tập validation:\")\n",
    "print(classification_report(y_val_mfcc, y_val_pred))\n",
    "\n",
    "# Đánh giá mô hình trên tập test\n",
    "print(\"\\n📊 Đánh giá trên tập test:\")\n",
    "print(classification_report(y_test_mfcc, y_test_pred))\n",
    "\n",
    "# In accuracy trên validation và test\n",
    "val_accuracy = accuracy_score(y_val_mfcc, y_val_pred)\n",
    "test_accuracy = accuracy_score(y_test_mfcc, y_test_pred)\n",
    "print(f\"\\n✅ Accuracy trên tập validation: {val_accuracy:.4f}\")\n",
    "print(f\"✅ Accuracy trên tập test: {test_accuracy:.4f}\")"
   ]
  }
 ],
 "metadata": {
  "kernelspec": {
   "display_name": "Python 3",
   "language": "python",
   "name": "python3"
  },
  "language_info": {
   "codemirror_mode": {
    "name": "ipython",
    "version": 3
   },
   "file_extension": ".py",
   "mimetype": "text/x-python",
   "name": "python",
   "nbconvert_exporter": "python",
   "pygments_lexer": "ipython3",
   "version": "3.10.11"
  }
 },
 "nbformat": 4,
 "nbformat_minor": 2
}
